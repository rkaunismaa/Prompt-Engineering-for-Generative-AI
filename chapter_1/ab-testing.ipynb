{
 "cells": [
  {
   "cell_type": "markdown",
   "metadata": {},
   "source": [
    "#### Saturday, December 14, 2024\n",
    "\n",
    "As expected, different models perform, ... well ... , differently! And running the code from the 4090 will ALWAYS be faster than running it from the 2070 super."
   ]
  },
  {
   "cell_type": "code",
   "execution_count": 1,
   "metadata": {},
   "outputs": [],
   "source": [
    "# Define two variants of the prompt to test zero-shot\n",
    "# vs few-shot:\n",
    "prompt_A = \"\"\"Product description: A pair of shoes that can\n",
    "fit any foot size.\n",
    "Seed words: adaptable, fit, omni-fit.\n",
    "Product names:\"\"\"\n",
    "\n",
    "prompt_B = \"\"\"Product description: A home milkshake maker.\n",
    "Seed words: fast, healthy, compact.\n",
    "Product names: HomeShaker, Fit Shaker, QuickShake, Shake\n",
    "Maker\n",
    "\n",
    "Product description: A watch that can tell accurate time in\n",
    "space.\n",
    "Seed words: astronaut, space-hardened, eliptical orbit\n",
    "Product names: AstroTime, SpaceGuard, Orbit-Accurate,\n",
    "EliptoTime.\n",
    "\n",
    "Product description: A pair of shoes that can fit any foot\n",
    "size.\n",
    "Seed words: adaptable, fit, omni-fit.\n",
    "Product names:\"\"\"\n",
    "\n",
    "test_prompts = [prompt_A, prompt_B]"
   ]
  },
  {
   "cell_type": "code",
   "execution_count": 3,
   "metadata": {},
   "outputs": [],
   "source": [
    "import pandas as pd\n",
    "from openai import OpenAI\n",
    "import os\n",
    "\n",
    "# Set your OpenAI key as an environment variable\n",
    "# https://platform.openai.com/api-keys\n",
    "# client = OpenAI(\n",
    "#   api_key=os.environ['OPENAI_API_KEY'],  # Default\n",
    "# )\n",
    "\n",
    "# Point to the local server ... last guy wins.\n",
    "lmstudio = \"http://localhost:1234/v1\"\n",
    "lmstudio = \"http://192.168.2.16:1234/v1\"\n",
    "\n",
    "client = OpenAI(base_url=lmstudio, api_key=\"lm-studio\")\n",
    "\n",
    "model = \"qwen2.5-14b-instruct\"\n",
    "\n",
    "# model = \"hermes-3-llama-3.2-3b\"\n"
   ]
  },
  {
   "cell_type": "code",
   "execution_count": 4,
   "metadata": {},
   "outputs": [],
   "source": [
    "def get_response(prompt):\n",
    "    response = client.chat.completions.create(\n",
    "        # model=\"gpt-3.5-turbo\",\n",
    "        model = model ,\n",
    "        messages=[\n",
    "            {\n",
    "                \"role\": \"system\",\n",
    "                \"content\": \"You are a helpful assistant.\"\n",
    "            },\n",
    "            {\n",
    "                \"role\": \"user\",\n",
    "                \"content\": prompt\n",
    "            }\n",
    "        ]\n",
    "    )\n",
    "    return response.choices[0].message.content"
   ]
  },
  {
   "cell_type": "code",
   "execution_count": 5,
   "metadata": {},
   "outputs": [],
   "source": [
    "# Iterate through the prompts and get responses\n",
    "responses = []\n",
    "num_tests = 5\n",
    "\n",
    "for idx, prompt in enumerate(test_prompts):\n",
    "\n",
    "    # prompt number as a letter\n",
    "    var_name = chr(ord('A') + idx)\n",
    "\n",
    "    for i in range(num_tests):\n",
    "        \n",
    "        # Get a response from the model\n",
    "        response = get_response(prompt)\n",
    "\n",
    "        data = {\n",
    "            \"variant\": var_name,\n",
    "            \"prompt\": prompt, \n",
    "            \"response\": response\n",
    "            }\n",
    "        \n",
    "        responses.append(data)\n",
    "\n",
    "# 2m 45.4s \"qwen2.5-14b-instruct\" 2070 super\n",
    "\n",
    "# 30.0 s \"hermes-3-llama-3.2-3b\" 2070 super\n",
    "\n",
    "# 38.8s \"qwen2.5-14b-instruct\" Qwen2.5-14B-Instruct-Q8_0.gguf 4090 \n",
    "\n",
    "# 2m 58.9s \"qwen2.5-14b-instruct\" Qwen2.5-14B-Instruct-Q4_K_M.gguf => 2070 super\n",
    "# 35.6s    \"qwen2.5-14b-instruct\" Qwen2.5-14B-Instruct-Q4_K_M.gguf => 4090\n"
   ]
  },
  {
   "cell_type": "code",
   "execution_count": 6,
   "metadata": {},
   "outputs": [
    {
     "name": "stdout",
     "output_type": "stream",
     "text": [
      "  variant                                             prompt  \\\n",
      "0       A  Product description: A pair of shoes that can\\...   \n",
      "1       A  Product description: A pair of shoes that can\\...   \n",
      "2       A  Product description: A pair of shoes that can\\...   \n",
      "3       A  Product description: A pair of shoes that can\\...   \n",
      "4       A  Product description: A pair of shoes that can\\...   \n",
      "5       B  Product description: A home milkshake maker.\\n...   \n",
      "6       B  Product description: A home milkshake maker.\\n...   \n",
      "7       B  Product description: A home milkshake maker.\\n...   \n",
      "8       B  Product description: A home milkshake maker.\\n...   \n",
      "9       B  Product description: A home milkshake maker.\\n...   \n",
      "\n",
      "                                            response  \n",
      "0  Adaptable Omni-Fit Shoes\\nComfortable Omni-Fit...  \n",
      "1  Adaptable Omni-Fit Shoes\\nComfortable Omni-Fit...  \n",
      "2  Adaptable Omni-Fit Shoes\\nComfortable Omni-Fit...  \n",
      "3  Adaptable Omni-Fit Shoes\\nOmni-Fit Shoe Collec...  \n",
      "4  Adaptable Omni-Fit Shoes\\nComfortable Omni-Fit...  \n",
      "5    1. Omnitfit Shoes - Adaptable and Comfortabl...  \n",
      "6    1. HomeShaker or Fit Shaker: Comfortable Hom...  \n",
      "7    1. HomeShaker or Fit Shaker: Comfortable Hom...  \n",
      "8    1. OmniFoot - Product description: A comfort...  \n",
      "9    1. HomeShaker or Fit Shaker: Compact and Fas...  \n"
     ]
    }
   ],
   "source": [
    "# Convert responses into a dataframe\n",
    "df = pd.DataFrame(responses)\n",
    "\n",
    "print(df)"
   ]
  },
  {
   "cell_type": "code",
   "execution_count": 9,
   "metadata": {},
   "outputs": [],
   "source": [
    "# Save the dataframe as a CSV file\n",
    "df.to_csv(\"responses_.csv\", index=False)\n"
   ]
  },
  {
   "cell_type": "code",
   "execution_count": 10,
   "metadata": {},
   "outputs": [],
   "source": [
    "import ipywidgets as widgets\n",
    "from IPython.display import display\n",
    "import pandas as pd\n",
    "\n",
    "# load the responses.csv file\n",
    "df = pd.read_csv(\"responses.csv\")\n",
    "\n",
    "# Shuffle the dataframe\n",
    "df = df.sample(frac=1).reset_index(drop=True)\n",
    "\n",
    "# df is your dataframe and 'response' is the column with the \n",
    "# text you want to test\n",
    "response_index = 0\n",
    "# add a new column to store feedback\n",
    "df['feedback'] = pd.Series(dtype='str') "
   ]
  },
  {
   "cell_type": "code",
   "execution_count": 11,
   "metadata": {},
   "outputs": [],
   "source": [
    "def on_button_clicked(b):\n",
    "    global response_index\n",
    "    #  convert thumbs up / down to 1 / 0\n",
    "    user_feedback = 1 if b.description == \"\\U0001F44D\" else 0\n",
    "\n",
    "    # update the feedback column\n",
    "    df.at[response_index, 'feedback'] = user_feedback\n",
    "\n",
    "    response_index += 1\n",
    "    if response_index < len(df):\n",
    "        update_response()\n",
    "    else:\n",
    "        # save the feedback to a CSV file\n",
    "        df.to_csv(\"results.csv\", index=False)\n",
    "\n",
    "        print(\"A/B testing completed. Here's the results:\")\n",
    "        # Calculate score and num rows for each variant\n",
    "        summary_df = df.groupby('variant').agg(\n",
    "            count=('feedback', 'count'), \n",
    "            score=('feedback', 'mean')).reset_index()\n",
    "        print(summary_df)\n",
    "        \n",
    "def update_response():\n",
    "    new_response = df.iloc[response_index]['response']\n",
    "    if pd.notna(new_response):\n",
    "        new_response = \"<p>\" + new_response + \"</p>\"\n",
    "    else:\n",
    "        new_response = \"<p>No response</p>\"\n",
    "    response.value = new_response\n",
    "    count_label.value = f\"Response: {response_index + 1}\"\n",
    "    count_label.value += f\"/{len(df)}\""
   ]
  },
  {
   "cell_type": "code",
   "execution_count": 12,
   "metadata": {},
   "outputs": [
    {
     "data": {
      "application/vnd.jupyter.widget-view+json": {
       "model_id": "c5ded912ef7d4add9dbae50e2ca92197",
       "version_major": 2,
       "version_minor": 0
      },
      "text/plain": [
       "HTML(value='<p>AdaptaFit, OmniFit, FitFlex, UniversalFit</p>')"
      ]
     },
     "metadata": {},
     "output_type": "display_data"
    },
    {
     "data": {
      "application/vnd.jupyter.widget-view+json": {
       "model_id": "0e52f1e61e59464e80a1fab29b715695",
       "version_major": 2,
       "version_minor": 0
      },
      "text/plain": [
       "HBox(children=(Button(description='👎', style=ButtonStyle()), Button(description='👍', style=ButtonStyle())))"
      ]
     },
     "metadata": {},
     "output_type": "display_data"
    },
    {
     "data": {
      "application/vnd.jupyter.widget-view+json": {
       "model_id": "bd0e03aed91b4b0f9d0c53bf72774cbe",
       "version_major": 2,
       "version_minor": 0
      },
      "text/plain": [
       "Label(value='Response: 1/10')"
      ]
     },
     "metadata": {},
     "output_type": "display_data"
    }
   ],
   "source": [
    "response = widgets.HTML()\n",
    "count_label = widgets.Label()\n",
    "\n",
    "update_response()\n",
    "\n",
    "thumbs_up_button = widgets.Button(description='\\U0001F44D')\n",
    "thumbs_up_button.on_click(on_button_clicked)\n",
    "\n",
    "thumbs_down_button = widgets.Button(\n",
    "    description='\\U0001F44E')\n",
    "thumbs_down_button.on_click(on_button_clicked)\n",
    "\n",
    "button_box = widgets.HBox([thumbs_down_button, \n",
    "thumbs_up_button])\n",
    "\n",
    "display(response, button_box, count_label)"
   ]
  }
 ],
 "metadata": {
  "kernelspec": {
   "display_name": "pe4gai",
   "language": "python",
   "name": "python3"
  },
  "language_info": {
   "codemirror_mode": {
    "name": "ipython",
    "version": 3
   },
   "file_extension": ".py",
   "mimetype": "text/x-python",
   "name": "python",
   "nbconvert_exporter": "python",
   "pygments_lexer": "ipython3",
   "version": "3.11.8"
  }
 },
 "nbformat": 4,
 "nbformat_minor": 2
}
