{
 "cells": [
  {
   "cell_type": "markdown",
   "metadata": {},
   "source": [
    "#### Saturday, December 14, 2024\n",
    "\n",
    "This notebook was not part of the original authors repository, but was created from the sample code from Chapter 3.\n",
    "\n",
    "I'm really kinda surprised the authors repository didn't include a notebook!"
   ]
  },
  {
   "cell_type": "code",
   "execution_count": 1,
   "metadata": {},
   "outputs": [],
   "source": [
    "from openai import OpenAI\n",
    "import os\n",
    "\n",
    "# Set your OpenAI key as an environment variable\n",
    "# https://platform.openai.com/api-keys\n",
    "# client = OpenAI(\n",
    "#   api_key=os.environ['OPENAI_API_KEY'],  # Default\n",
    "# )\n",
    "\n",
    "# Point to the local server ... last guy wins.\n",
    "# lmstudio = \"http://localhost:1234/v1\"\n",
    "lmstudio = \"http://192.168.2.16:1234/v1\"\n",
    "\n",
    "client = OpenAI(base_url=lmstudio, api_key=\"lm-studio\")\n",
    "\n",
    "model = \"qwen2.5-14b-instruct\" # lmstudio-community/Qwen2.5-14B-Instruct-GGUF : wen2.5-14B-Instruct-Q8_0.gguf\n",
    "\n",
    "# model = \"hermes-3-llama-3.2-3b\"\n"
   ]
  },
  {
   "cell_type": "code",
   "execution_count": 2,
   "metadata": {},
   "outputs": [],
   "source": [
    "def get_response(prompt):\n",
    "    response = client.chat.completions.create(\n",
    "        # model=\"gpt-3.5-turbo\",\n",
    "        model = model ,\n",
    "        messages=[\n",
    "            {\n",
    "                \"role\": \"system\",\n",
    "                \"content\": \"You are a helpful assistant.\"\n",
    "            },\n",
    "            {\n",
    "                \"role\": \"user\",\n",
    "                \"content\": prompt\n",
    "            }\n",
    "        ]\n",
    "    )\n",
    "    return response.choices[0].message.content"
   ]
  },
  {
   "cell_type": "markdown",
   "metadata": {},
   "source": [
    "### Generating Lists"
   ]
  },
  {
   "cell_type": "code",
   "execution_count": 3,
   "metadata": {},
   "outputs": [],
   "source": [
    "prompt = \"\"\"Generate a list of Disney characters.\"\"\""
   ]
  },
  {
   "cell_type": "code",
   "execution_count": 4,
   "metadata": {},
   "outputs": [
    {
     "name": "stdout",
     "output_type": "stream",
     "text": [
      "Here is a diverse list of popular Disney characters from various movies and shows:\n",
      "\n",
      "1. Mickey Mouse (Steamboat Willie)\n",
      "2. Minnie Mouse (Steamboat Willie)\n",
      "3. Donald Duck (The Wise Little Hen)\n",
      "4. Daisy Duck (Don Donald)\n",
      "5. Goofy (Mickey's Revue)\n",
      "6. Pluto (Pluto's Judgement Day)\n",
      "7. Scrooge McDuck (Christmas on Bear Mountain, Christmas at Willow Bay)\n",
      "8. Jiminy Cricket (Pinocchio)\n",
      "9. Dopey (Snow White and the Seven Dwarfs)\n",
      "10. Snow White (Snow White and the Seven Dwarfs)\n",
      "11. Cinderella (Cinderella)\n",
      "12. Aurora / Sleeping Beauty (Sleeping Beauty)\n",
      "13. Belle (Beauty and the Beast)\n",
      "14. Jasmine (Aladdin)\n",
      "15. Pocahontas (Pocahontas)\n",
      "16. Mulan (Mulan)\n",
      "17. Tiana (The Princess and the Frog)\n",
      "18. Rapunzel (Tangled)\n",
      "19. Merida (Brave)\n",
      "20. Moana (Moana)\n",
      "\n",
      "Animated Movie Characters:\n",
      "1. Simba, Nala, Pumbaa, Timon, Rafiki (The Lion King)\n",
      "2. Stitch (Lilo & Stitch)\n",
      "3. Buzz Lightyear and Woody (Toy Story series)\n",
      "4. Sully and Mike Wazowski (Monsters, Inc.)\n",
      "5. Baloo, Mowgli (The Jungle Book)\n",
      "6. Nemo and Marlin (Finding Nemo)\n",
      "\n",
      "Live-Action Movie Characters:\n",
      "1. Alice (Alice in Wonderland)\n",
      "2. Maleficent (Sleeping Beauty / Maleficent)\n",
      "3. Aladdin (Aladdin)\n",
      "4. Jasmine (Aladdin)\n",
      "5. Cruella de Vil (101 Dalmatians)\n",
      "\n",
      "Disney Channel and Disney Junior TV Show Characters:\n",
      "1. Doc McStuffins (Doc McStuffins)\n",
      "2. Elena of Avalor (Elena of Avalor)\n",
      "3. Jessie (Jessie)\n",
      "4. Mira Nova (Star vs the Forces of Evil)\n",
      "5. Baymax (Big Hero 6: The Series)\n",
      "\n",
      "This list is not exhaustive, but it covers some well-known and loved Disney characters from different eras and mediums.\n"
     ]
    }
   ],
   "source": [
    " # Get a response from the model\n",
    "response = get_response(prompt)\n",
    "print(response)\n",
    "\n",
    "# 18.5s\n",
    "# 17.8s"
   ]
  },
  {
   "cell_type": "markdown",
   "metadata": {},
   "source": [
    "The response is unpredictable because we were not clear about the type of list we wanted. Let's try again, this time being more specific with what we want."
   ]
  },
  {
   "cell_type": "code",
   "execution_count": 5,
   "metadata": {},
   "outputs": [],
   "source": [
    "prompt = \"\"\"Generate a bullet point list of 5 male Disney characters. \n",
    "Only include the name of the character for each line. \n",
    "Never include the film for each Disney character.\n",
    "\n",
    "Below is an example list:\n",
    "* Aladdin\n",
    "* Simba\n",
    "* Beast\n",
    "* Hercules\n",
    "* Tarzan\"\"\""
   ]
  },
  {
   "cell_type": "code",
   "execution_count": null,
   "metadata": {},
   "outputs": [
    {
     "name": "stdout",
     "output_type": "stream",
     "text": [
      "* Peter Pan\n",
      "* Genie\n",
      "* Woody\n",
      "* Mowgli\n",
      "* Stitch\n"
     ]
    }
   ],
   "source": [
    " # Get a response from the model\n",
    "response = get_response(prompt)\n",
    "print(response)\n",
    "\n",
    "# 0.9s\n",
    "# 0.7s"
   ]
  },
  {
   "cell_type": "markdown",
   "metadata": {},
   "source": [
    "It's interesting to observe just how much faster this prompt runs!"
   ]
  },
  {
   "cell_type": "markdown",
   "metadata": {},
   "source": [
    "### Hierarchical List Generation"
   ]
  },
  {
   "cell_type": "markdown",
   "metadata": {},
   "source": [
    "Hierarchical lists are useful for when your desired output is nested. A good example of this would be a detailed article structure."
   ]
  },
  {
   "cell_type": "code",
   "execution_count": 7,
   "metadata": {},
   "outputs": [],
   "source": [
    "prompt = \"\"\"Generate a hierarchical and incredibly detailed article outline on \"what are the benefits of data engineering\".\n",
    "\n",
    "See an example of the hierarchical structure below:\n",
    "\n",
    "Article Title: What are the benefits of digital marketing?\n",
    "\n",
    "* Introduction\n",
    "    a. Explanation of digital marketing\n",
    "    b. Importance of digital marketing in today’s business world\n",
    "\n",
    "* Increased Brand Awareness\n",
    "    a. Definition of brand awareness\n",
    "    b. How digital marketing helps in increasing brand awareness\"\"\""
   ]
  },
  {
   "cell_type": "code",
   "execution_count": null,
   "metadata": {},
   "outputs": [
    {
     "name": "stdout",
     "output_type": "stream",
     "text": [
      "### Article Title: What Are the Benefits of Data Engineering?\n",
      "\n",
      "#### I. Introduction\n",
      "   - A. Explanation of data engineering\n",
      "       1. Definition and scope of data engineering\n",
      "       2. Evolution of data engineering\n",
      "   - B. Importance of data engineering in today’s business world\n",
      "       1. Role in modern business operations\n",
      "       2. Impact on decision-making processes\n",
      "\n",
      "#### II. Enhanced Data Management Capabilities\n",
      "   - A. Efficient Data Collection and Integration\n",
      "       1. Automation of data ingestion from various sources\n",
      "       2. Standardization and normalization of diverse datasets\n",
      "   - B. Scalability and Flexibility\n",
      "       1. Adapting to growing data volumes and changing business needs\n",
      "       2. Elastic computing resources for optimal performance\n",
      "\n",
      "#### III. Improved Data Quality and Reliability\n",
      "   - A. Data Cleaning and Validation Techniques\n",
      "       1. Identifying and removing inconsistencies or inaccuracies\n",
      "       2. Implementing robust validation rules\n",
      "   - B. Ensuring Consistency Across Datasets\n",
      "       1. Uniform data formats across different systems\n",
      "       2. Maintaining referential integrity\n",
      "\n",
      "#### IV. Real-Time Data Processing for Immediate Insights\n",
      "   - A. Implementation of Stream Processing Technologies\n",
      "       1. Utilizing Apache Kafka and Apache Flink for real-time analytics\n",
      "       2. Benefits of immediate insights in business operations\n",
      "   - B. Enhancing Customer Experience through Real-Time Personalization\n",
      "       1. Dynamic content delivery based on user behavior\n",
      "       2. Immediate feedback mechanisms\n",
      "\n",
      "#### V. Advanced Analytics and Predictive Modeling\n",
      "   - A. Leveraging Data Warehousing Solutions\n",
      "       1. Efficient storage of large datasets for complex queries\n",
      "       2. Support for BI tools and advanced analytics\n",
      "   - B. Facilitating Machine Learning Pipelines\n",
      "       1. Preparing structured data sets for ML algorithms\n",
      "       2. Integration with cloud-based ML platforms like AWS Sagemaker\n",
      "\n",
      "#### VI. Cost Efficiency Through Optimization\n",
      "   - A. Reducing Storage Costs via Data Compression Techniques\n",
      "       1. Implementing efficient storage methods (e.g., Parquet, ORC)\n",
      "       2. Dynamic tiering of data based on usage patterns\n",
      "   - B. Minimizing Processing Time and Resource Usage\n",
      "       1. Utilization of distributed computing frameworks like Apache Spark\n",
      "       2. Efficient resource allocation strategies\n",
      "\n",
      "#### VII. Enhanced Security Measures\n",
      "   - A. Robust Data Encryption Methods\n",
      "       1. Implementing end-to-end encryption protocols\n",
      "       2. Compliance with regulatory standards (e.g., GDPR, HIPAA)\n",
      "   - B. Access Control and User Authentication Mechanisms\n",
      "       1. Role-based access control (RBAC) systems\n",
      "       2. Multi-factor authentication for secure data access\n",
      "\n",
      "#### VIII. Improved Decision-Making Processes\n",
      "   - A. Real-Time Monitoring and Alert Systems\n",
      "       1. Implementing anomaly detection algorithms\n",
      "       2. Automated alert mechanisms for critical events\n",
      "   - B. Data-Driven Strategic Planning\n",
      "       1. Utilizing insights from historical data to inform future strategies\n",
      "       2. Forecasting trends and predicting market movements\n",
      "\n",
      "#### IX. Streamlined Operations Through Automation\n",
      "   - A. Workflow Automation in ETL Processes\n",
      "       1. Automating extraction, transformation, and loading tasks\n",
      "       2. Reducing manual intervention and minimizing errors\n",
      "   - B. Continuous Integration/Continuous Deployment (CI/CD) for Data Pipelines\n",
      "       1. Ensuring seamless updates to data workflows\n",
      "       2. Monitoring system performance and reliability\n",
      "\n",
      "#### X. Competitive Advantage in the Market\n",
      "   - A. Leveraging Advanced Analytics for Business Growth\n",
      "       1. Identifying new market opportunities through data analysis\n",
      "       2. Enhancing product development with customer insights\n",
      "   - B. Differentiation from Competitors Through Data-Driven Innovations\n",
      "       1. Creating unique value propositions based on data-driven strategies\n",
      "       2. Implementing advanced technologies (AI, IoT) to stay ahead\n",
      "\n",
      "#### XI. Conclusion\n",
      "   - A. Recap of Key Benefits of Data Engineering\n",
      "       1. Summarizing the main advantages discussed in the article\n",
      "       2. Highlighting the transformative impact on business operations\n",
      "   - B. Future Outlook and Emerging Trends\n",
      "       1. Potential advancements in data engineering technologies\n",
      "       2. Preparing for future challenges and opportunities\n"
     ]
    }
   ],
   "source": [
    " # Get a response from the model\n",
    "response = get_response(prompt)\n",
    "print(response)\n",
    "\n",
    "# 24.2s\n",
    "# 34.9s"
   ]
  },
  {
   "cell_type": "markdown",
   "metadata": {},
   "source": [
    "So you’ve successfully produced a hierarchical article outline, but how could you parse the string into structured data?"
   ]
  },
  {
   "cell_type": "markdown",
   "metadata": {},
   "source": [
    "Example 3.1 Parsing a hierierarchical list "
   ]
  },
  {
   "cell_type": "code",
   "execution_count": 9,
   "metadata": {},
   "outputs": [
    {
     "name": "stdout",
     "output_type": "stream",
     "text": [
      "Headings:\n",
      "\n",
      "* Introduction\n",
      "* Efficient Data Management\n",
      "* Conclusion\n",
      "\n",
      "Subheadings:\n",
      "\n",
      "* Explanation of data engineering\n",
      "* Importance of data engineering in today’s data-driven world\n",
      "* Definition of data management\n",
      "* How data engineering helps in efficient data management.\n",
      "* Importance of Data Engineering in the modern business world\n",
      "* Future of Data Engineering and its impact on the data ecosystem\n"
     ]
    }
   ],
   "source": [
    "import re\n",
    "\n",
    "# openai_result = generate_article_outline(prompt)\n",
    "\n",
    "openai_result = \"\"\"\n",
    "* Introduction\n",
    "    a. Explanation of data engineering\n",
    "    b. Importance of data engineering in today’s data-driven world\n",
    "* Efficient Data Management\n",
    "    a. Definition of data management\n",
    "    b. How data engineering helps in efficient data management.\n",
    "* Conclusion\n",
    "    a. Importance of Data Engineering in the modern business world\n",
    "    b. Future of Data Engineering and its impact on the data ecosystem\n",
    "\"\"\"\n",
    "\n",
    "# Regular expression patterns\n",
    "heading_pattern = r\"\\* (.+)\"\n",
    "subheading_pattern = r\"\\s+[a-z]\\. (.+)\"\n",
    "\n",
    "# Extract headings and subheadings\n",
    "headings = re.findall(heading_pattern, openai_result)\n",
    "subheadings = re.findall(subheading_pattern, openai_result)\n",
    "\n",
    "# Print results\n",
    "print(\"Headings:\\n\")\n",
    "for heading in headings:\n",
    "    print(f\"* {heading}\")\n",
    "\n",
    "print(\"\\nSubheadings:\\n\")\n",
    "for subheading in subheadings:\n",
    "    print(f\"* {subheading}\")"
   ]
  },
  {
   "cell_type": "markdown",
   "metadata": {},
   "source": [
    "Example 3.2 Parsing a hierarchical list into a Python dictionary:"
   ]
  },
  {
   "cell_type": "code",
   "execution_count": 12,
   "metadata": {},
   "outputs": [
    {
     "data": {
      "text/plain": [
       "{'Introduction': ['a. Explanation of data engineering',\n",
       "  'b. Importance of data engineering in today’s data-driven world'],\n",
       " 'Efficient Data Management': ['a. Definition of data management',\n",
       "  'b. How data engineering helps in efficient data management.',\n",
       "  'c. Why data engineering is important for data management'],\n",
       " 'Conclusion': ['a. Importance of Data Engineering in the modern business world',\n",
       "  'b. Future of Data Engineering and its impact on the data ecosystem']}"
      ]
     },
     "execution_count": 12,
     "metadata": {},
     "output_type": "execute_result"
    }
   ],
   "source": [
    "import re\n",
    "\n",
    "openai_result = \"\"\"\n",
    "* Introduction\n",
    "  a. Explanation of data engineering\n",
    "  b. Importance of data engineering in today’s data-driven world\n",
    "* Efficient Data Management\n",
    "    a. Definition of data management\n",
    "    b. How data engineering helps in efficient data management.\n",
    "    c. Why data engineering is important for data management\n",
    "* Conclusion\n",
    "    a. Importance of Data Engineering in the modern business world\n",
    "    b. Future of Data Engineering and its impact on the data ecosystem\n",
    "\"\"\"\n",
    "\n",
    "section_regex = re.compile(r\"\\* (.+)\")\n",
    "subsection_regex = re.compile(r\"\\s*([a-z]\\..+)\")\n",
    "\n",
    "result_dict = {}\n",
    "current_section = None\n",
    "\n",
    "for line in openai_result.split(\"\\n\"):\n",
    "    section_match = section_regex.match(line)\n",
    "    subsection_match = subsection_regex.match(line)\n",
    "\n",
    "    if section_match:\n",
    "        current_section = section_match.group(1)\n",
    "        result_dict[current_section] = []\n",
    "    elif subsection_match and current_section is not None:\n",
    "        result_dict[current_section].append(subsection_match.group(1))\n",
    "\n",
    "#print(result_dict)\n",
    "result_dict"
   ]
  },
  {
   "cell_type": "markdown",
   "metadata": {},
   "source": [
    "### When to Avoid using Regular Expressions"
   ]
  },
  {
   "cell_type": "markdown",
   "metadata": {},
   "source": [
    "#### Generating JSON"
   ]
  },
  {
   "cell_type": "code",
   "execution_count": 13,
   "metadata": {},
   "outputs": [],
   "source": [
    "prompt = \"\"\"Compose a very detailed article outline on \"The benefits of learning code\" with a JSON payload structure that highlights key points.\n",
    "\n",
    "Only return valid JSON.\n",
    "\n",
    "Here is an example of the JSON structure:\n",
    "```{\n",
    "    \"Introduction\": [\n",
    "        \"a. Explanation of data engineering\",\n",
    "        \"b. Importance of data engineering in today’s data-driven world\"],\n",
    "    \"Efficient Data Management\": [\n",
    "        \"a. Definition of data management\",\n",
    "        \"b. How data engineering helps in efficient data management.\"],\n",
    "    \"Conclusion\": [\n",
    "        \"a. Importance of Data Engineering in the modern business world\",\n",
    "        \"b. Future of Data Engineering and its impact on the data ecosystem\"]\n",
    "} \"\"\""
   ]
  },
  {
   "cell_type": "code",
   "execution_count": 14,
   "metadata": {},
   "outputs": [
    {
     "name": "stdout",
     "output_type": "stream",
     "text": [
      "```json\n",
      "{\n",
      "    \"Introduction\": [\n",
      "        \"a. Explanation of what coding is and why it's important\",\n",
      "        \"b. Overview of the increasing demand for coders in various industries\"\n",
      "    ],\n",
      "    \"Enhanced Problem-Solving Skills\": [\n",
      "        \"a. Development of logical thinking through programming challenges\",\n",
      "        \"b. Application of problem-solving skills to real-world scenarios beyond coding\",\n",
      "        \"c. Improved analytical capabilities and decision-making processes\"\n",
      "    ],\n",
      "    \"Career Opportunities and Advancement\": [\n",
      "        \"a. Broad range of career options in software development, data science, web design, etc.\",\n",
      "        \"b. High demand for skilled coders leading to better job prospects and higher salaries\",\n",
      "        \"c. Continuous learning and adaptation necessary in the rapidly evolving tech industry\"\n",
      "    ],\n",
      "    \"Personal Creativity and Innovation\": [\n",
      "        \"a. Freedom to create unique software applications or improve existing ones\",\n",
      "        \"b. Collaboration with other developers for innovative projects\",\n",
      "        \"c. Personal satisfaction from bringing ideas to life through code\"\n",
      "    ],\n",
      "    \"Improved Communication Skills\": [\n",
      "        \"a. Clear and structured thinking required in coding leading to better communication\",\n",
      "        \"b. Understanding how technology impacts daily tasks and explaining it to others\",\n",
      "        \"c. Enhanced teamwork during collaborative projects involving programming\"\n",
      "    ],\n",
      "    \"Adaptability to New Technologies\": [\n",
      "        \"a. Continuous learning curve that keeps coders updated with the latest trends\",\n",
      "        \"b. Flexibility in adopting new languages or frameworks as they evolve\",\n",
      "        \"c. Importance of adaptability in a field driven by innovation and change\"\n",
      "    ],\n",
      "    \"Increased Productivity through Automation\": [\n",
      "        \"a. Ability to automate repetitive tasks using scripts and programs\",\n",
      "        \"b. Time savings achieved from automating manual processes\",\n",
      "        \"c. Focus on more complex problem solving due to automation handling the basics\"\n",
      "    ],\n",
      "    \"Conclusion\": [\n",
      "        \"a. Summary of key benefits of learning how to code\",\n",
      "        \"b. Encouragement for individuals to embrace coding as a valuable skill in today’s digital world\",\n",
      "        \"c. Future outlook on coding education and its impact on personal development and job markets\"\n",
      "    ]\n",
      "}\n",
      "```\n"
     ]
    }
   ],
   "source": [
    " # Get a response from the model\n",
    "response = get_response(prompt)\n",
    "print(response)\n",
    "\n",
    "# 17.1s"
   ]
  },
  {
   "cell_type": "markdown",
   "metadata": {},
   "source": [
    "Now let's examine how we can parse JSON output with Python:"
   ]
  },
  {
   "cell_type": "code",
   "execution_count": 16,
   "metadata": {},
   "outputs": [
    {
     "data": {
      "text/plain": [
       "{'Introduction': ['a. Overview of coding and programming languages',\n",
       "  \"b. Importance of coding in today's technology-driven world\"],\n",
       " 'Conclusion': ['a. Recap of the benefits of learning code',\n",
       "  'b. The ongoing importance of coding skills in the modern world']}"
      ]
     },
     "execution_count": 16,
     "metadata": {},
     "output_type": "execute_result"
    }
   ],
   "source": [
    "import json\n",
    "\n",
    "# openai_json_result = generate_article_outline(prompt)\n",
    "\n",
    "openai_json_result = \"\"\"\n",
    "{\n",
    "    \"Introduction\": [\n",
    "        \"a. Overview of coding and programming languages\",\n",
    "        \"b. Importance of coding in today's technology-driven world\"],\n",
    "    \"Conclusion\": [\n",
    "        \"a. Recap of the benefits of learning code\",\n",
    "        \"b. The ongoing importance of coding skills in the modern world\"]\n",
    "}\n",
    "\"\"\"\n",
    "\n",
    "parsed_json_payload = json.loads(openai_json_result)\n",
    "# print(parsed_json_payload)\n",
    "parsed_json_payload"
   ]
  },
  {
   "cell_type": "markdown",
   "metadata": {},
   "source": [
    "#### YAML"
   ]
  },
  {
   "cell_type": "code",
   "execution_count": 17,
   "metadata": {},
   "outputs": [],
   "source": [
    "prompt = \"\"\"Return valid `.yml` for 5 apple slices, and 2 dozen eggs.\n",
    "\n",
    "- Below you'll find the current yaml schema.\n",
    "- Please only use the schema below and if you are unsure, then return `Unsure`.\n",
    "\n",
    "```\n",
    "- item: Apple Slices\n",
    "  quantity: 5\n",
    "  unit: pieces\n",
    "- item: Milk\n",
    "  quantity: 1\n",
    "  unit: gallon\n",
    "- item: Bread\n",
    "  quantity: 2\n",
    "  unit: loaves\n",
    "- item: Eggs\n",
    "  quantity: 1\n",
    "  unit: dozen\n",
    "```\"\"\""
   ]
  },
  {
   "cell_type": "code",
   "execution_count": 18,
   "metadata": {},
   "outputs": [
    {
     "name": "stdout",
     "output_type": "stream",
     "text": [
      "Based on the provided schema, here is the valid `.yml` for 5 apple slices and 2 dozen eggs:\n",
      "\n",
      "```\n",
      "- item: Apple Slices\n",
      "  quantity: 5\n",
      "  unit: pieces\n",
      "- item: Eggs\n",
      "  quantity: 2\n",
      "  unit: dozen\n",
      "```\n"
     ]
    }
   ],
   "source": [
    " # Get a response from the model\n",
    "response = get_response(prompt)\n",
    "print(response)\n",
    "\n",
    "# 2.4s"
   ]
  },
  {
   "cell_type": "markdown",
   "metadata": {},
   "source": [
    "Filtering YAML payloads"
   ]
  },
  {
   "cell_type": "code",
   "execution_count": 19,
   "metadata": {},
   "outputs": [
    {
     "name": "stdout",
     "output_type": "stream",
     "text": [
      "Response 1 is valid\n",
      "Response 2 is valid\n",
      "Response 3 is invalid: Response is not a list\n"
     ]
    }
   ],
   "source": [
    "import yaml\n",
    "\n",
    "\n",
    "class InvalidResponse(Exception):\n",
    "    pass\n",
    "\n",
    "\n",
    "class InvalidItemType(Exception):\n",
    "    pass\n",
    "\n",
    "\n",
    "class InvalidItemKeys(Exception):\n",
    "    pass\n",
    "\n",
    "\n",
    "class InvalidItemName(Exception):\n",
    "    pass\n",
    "\n",
    "\n",
    "class InvalidItemQuantity(Exception):\n",
    "    pass\n",
    "\n",
    "\n",
    "class InvalidItemUnit(Exception):\n",
    "    pass\n",
    "\n",
    "\n",
    "# Provided schema\n",
    "schema = \"\"\"\n",
    "- item: Apple Slices\n",
    "  quantity: 5\n",
    "  unit: pieces\n",
    "- item: Milk\n",
    "  quantity: 1\n",
    "  unit: gallon\n",
    "- item: Bread\n",
    "  quantity: 2\n",
    "  unit: loaves\n",
    "- item: Eggs\n",
    "  quantity: 1\n",
    "  unit: dozen\n",
    "\"\"\"\n",
    "\n",
    "\n",
    "def validate_response(response, schema):\n",
    "    # Parse the schema\n",
    "    schema_parsed = yaml.safe_load(schema)\n",
    "\n",
    "    # Check if the response is a list\n",
    "    if not isinstance(response, list):\n",
    "        raise InvalidResponse(\"Response is not a list\")\n",
    "\n",
    "    # Check if each item in the list is a dictionary\n",
    "    for item in response:\n",
    "        if not isinstance(item, dict):\n",
    "            raise InvalidItemType(\"Response item is not a dictionary\")\n",
    "\n",
    "        # Check if each dictionary has the keys \"item\", \"quantity\", and \"unit\"\n",
    "        if not all(key in item for key in (\"item\", \"quantity\", \"unit\")):\n",
    "            raise InvalidItemKeys(\"Response item does not have the correct keys\")\n",
    "\n",
    "        # Check if the values associated with each key are the correct type\n",
    "        if not isinstance(item[\"item\"], str):\n",
    "            raise InvalidItemName(\"Response item name is not a string\")\n",
    "        if not isinstance(item[\"quantity\"], int):\n",
    "            raise InvalidItemQuantity(\"Response item quantity is not an integer\")\n",
    "        if not isinstance(item[\"unit\"], str):\n",
    "            raise InvalidItemUnit(\"Response item unit is not a string\")\n",
    "\n",
    "        # Check if the values associated with each key are the correct value\n",
    "        if item[\"item\"] not in [x[\"item\"] for x in schema_parsed]:\n",
    "            raise InvalidItemName(\"Response item name is not in schema\")\n",
    "        if item[\"quantity\"] > 10:\n",
    "            raise InvalidItemQuantity(\"Response item quantity is greater than 10\")\n",
    "        if item[\"unit\"] not in [\"pieces\", \"dozen\"]:\n",
    "            raise InvalidItemUnit(\"Response item unit is not pieces or dozen\")\n",
    "\n",
    "\n",
    "# Fake responses\n",
    "fake_response_1 = \"\"\"\n",
    "- item: Apple Slices\n",
    "  quantity: 5\n",
    "  unit: pieces\n",
    "- item: Eggs\n",
    "  quantity: 2\n",
    "  unit: dozen\n",
    "\"\"\"\n",
    "\n",
    "fake_response_2 = \"\"\"\n",
    "# Updated yaml list\n",
    "- item: Apple Slices\n",
    "  quantity: 5\n",
    "  unit: pieces\n",
    "\"\"\"\n",
    "\n",
    "fake_response_3 = \"\"\"Unmatched\"\"\"\n",
    "\n",
    "# Parse the fake responses\n",
    "response_1_parsed = yaml.safe_load(fake_response_1)\n",
    "response_2_parsed = yaml.safe_load(fake_response_2)\n",
    "response_3_parsed = yaml.safe_load(fake_response_3)\n",
    "\n",
    "# Validate the responses against the schema\n",
    "try:\n",
    "    validate_response(response_1_parsed, schema)\n",
    "    print(\"Response 1 is valid\")\n",
    "except Exception as e:\n",
    "    print(\"Response 1 is invalid:\", str(e))\n",
    "\n",
    "try:\n",
    "    validate_response(response_2_parsed, schema)\n",
    "    print(\"Response 2 is valid\")\n",
    "except Exception as e:\n",
    "    print(\"Response 2 is invalid:\", str(e))\n",
    "\n",
    "try:\n",
    "    validate_response(response_3_parsed, schema)\n",
    "    print(\"Response 3 is valid\")\n",
    "except Exception as e:\n",
    "    print(\"Response 3 is invalid:\", str(e))"
   ]
  },
  {
   "cell_type": "markdown",
   "metadata": {},
   "source": [
    "#### Diverse Format Generation with ChatGPT"
   ]
  },
  {
   "cell_type": "markdown",
   "metadata": {},
   "source": [
    "I am going to restart things from here just so that I do not have to run anything above ..."
   ]
  },
  {
   "cell_type": "code",
   "execution_count": 1,
   "metadata": {},
   "outputs": [],
   "source": [
    "from openai import OpenAI\n",
    "import os\n",
    "\n",
    "# Point to the local server ... last guy wins.\n",
    "lmstudio = \"http://localhost:1234/v1\"\n",
    "\n",
    "client = OpenAI(base_url=lmstudio, api_key=\"lm-studio\")\n",
    "\n",
    "model = \"qwen2.5-14b-instruct\" # lmstudio-community/Qwen2.5-14B-Instruct-GGUF : Qwen2.5-14B-Instruct-Q4_K_M.gguf\n",
    "\n"
   ]
  },
  {
   "cell_type": "markdown",
   "metadata": {},
   "source": [
    "Generally, the default temperature setting in OpenAI’s fine-tuned models is around 0.7. Temperature controls the randomness of the generated text. Lower temperatures result in more deterministic output, while higher temperatures lead to more diversity and randomness in the generated text."
   ]
  },
  {
   "cell_type": "code",
   "execution_count": 8,
   "metadata": {},
   "outputs": [],
   "source": [
    "def get_response(prompt):\n",
    "    response = client.chat.completions.create(\n",
    "        # model=\"gpt-3.5-turbo\",\n",
    "        model = model ,\n",
    "        temperature=0.0, # Setting the temperature to 0 ensures that the model will always choose the most likely next word, leading to more deterministic and less random output.\n",
    "        messages=[\n",
    "            {\n",
    "                \"role\": \"system\",\n",
    "                \"content\": \"You are a helpful assistant.\"\n",
    "            },\n",
    "            {\n",
    "                \"role\": \"user\",\n",
    "                \"content\": prompt\n",
    "            }\n",
    "        ]\n",
    "    )\n",
    "    return response.choices[0].message.content"
   ]
  },
  {
   "cell_type": "code",
   "execution_count": 6,
   "metadata": {},
   "outputs": [],
   "source": [
    "prompt = \"\"\"Create a flowchart diagram in mermaid syntax showing a simple food ordering\n",
    "process that starts with \"Choose food\" and ends with \"Pay for meal.\"\n",
    "Include steps for \"Add food to cart\" and \"Confirm cart.\"`\"\"\""
   ]
  },
  {
   "cell_type": "code",
   "execution_count": 9,
   "metadata": {},
   "outputs": [
    {
     "name": "stdout",
     "output_type": "stream",
     "text": [
      "Certainly! Below is the Mermaid syntax for a flowchart depicting a simple food ordering process:\n",
      "\n",
      "```mermaid\n",
      "flowchart TD\n",
      "\n",
      "    A[Choose food] --> B{Do you want to add more?}\n",
      "    B -->|Yes| C[Add food to cart]\n",
      "    C --> D[Confirm cart]\n",
      "    D --> E{Proceed to checkout?}\n",
      "    E -->|Yes| F[Pay for meal]\n",
      "    E -->|No| G[Remove items from cart]\n",
      "    G --> H[Confirm cart]\n",
      "    H --> I{Proceed to checkout?}\n",
      "    I -->|Yes| F\n",
      "    I -->|No| B\n",
      "\n",
      "    B -->|No| D\n",
      "```\n",
      "\n",
      "### Explanation:\n",
      "1. **A (Choose food)**: The process starts with the user choosing their desired food items.\n",
      "2. **B (Do you want to add more?)**: After selecting an item, the system asks if the user wants to add more items to their order.\n",
      "3. **C (Add food to cart)**: If the user chooses \"Yes,\" they can add additional items to their cart.\n",
      "4. **D (Confirm cart)**: The user confirms the items in their cart before proceeding further.\n",
      "5. **E (Proceed to checkout?)**: After confirming the cart, the system asks if the user is ready to proceed to checkout.\n",
      "6. **F (Pay for meal)**: If the user chooses \"Yes,\" they pay for their order and complete the process.\n",
      "7. **G (Remove items from cart)**: If the user chooses \"No\" at step E, they can remove items from their cart.\n",
      "8. **H (Confirm cart)**: After removing or modifying items in the cart, the user confirms the updated cart.\n",
      "9. **I (Proceed to checkout?)**: The system again asks if the user is ready to proceed to checkout.\n",
      "\n",
      "This flowchart ensures that users have multiple opportunities to modify their order before finalizing it and paying for their meal.\n"
     ]
    }
   ],
   "source": [
    "response = get_response(prompt)\n",
    "print(response)"
   ]
  },
  {
   "cell_type": "code",
   "execution_count": 7,
   "metadata": {},
   "outputs": [
    {
     "name": "stdout",
     "output_type": "stream",
     "text": [
      "Certainly! Below is the Mermaid syntax for a flowchart depicting a simple food ordering process:\n",
      "\n",
      "```mermaid\n",
      "flowchart TD\n",
      "\n",
      "    A[Choose food] --> B{Do you want to add more?}\n",
      "    B -->|Yes| C[Add food to cart]\n",
      "    C --> D[Confirm cart]\n",
      "    D --> E{Proceed to checkout?}\n",
      "    E -->|Yes| F[Pay for meal]\n",
      "    E -->|No| G[Remove items from cart]\n",
      "    G --> H[Confirm cart]\n",
      "    H --> I{Proceed to checkout?}\n",
      "    I -->|Yes| F\n",
      "    I -->|No| B\n",
      "\n",
      "    B -->|No| D\n",
      "```\n",
      "\n",
      "### Explanation:\n",
      "1. **A (Choose food)**: The process starts with the user choosing their desired food items.\n",
      "2. **B (Do you want to add more?)**: After selecting an item, the system asks if the user wants to add more items to their order.\n",
      "3. **C (Add food to cart)**: If the user chooses \"Yes,\" they can add additional items to their cart.\n",
      "4. **D (Confirm cart)**: The user confirms the items in their cart before proceeding further.\n",
      "5. **E (Proceed to checkout?)**: After confirming the cart, the system asks if the user is ready to proceed to checkout.\n",
      "6. **F (Pay for meal)**: If the user chooses \"Yes,\" they pay for their order and complete the process.\n",
      "7. **G (Remove items from cart)**: If the user chooses \"No\" at step E, they can remove items from their cart.\n",
      "8. **H (Confirm cart)**: After removing or modifying items in the cart, the user confirms the updated cart.\n",
      "9. **I (Proceed to checkout?)**: The system again asks if the user is ready to proceed to checkout.\n",
      "\n",
      "This flowchart ensures that users have multiple opportunities to modify their order before finalizing it and paying for their meal.\n"
     ]
    }
   ],
   "source": [
    " # Get a response from the model\n",
    "response = get_response(prompt)\n",
    "print(response)"
   ]
  },
  {
   "cell_type": "code",
   "execution_count": null,
   "metadata": {},
   "outputs": [],
   "source": []
  }
 ],
 "metadata": {
  "kernelspec": {
   "display_name": "pe4gai",
   "language": "python",
   "name": "python3"
  },
  "language_info": {
   "codemirror_mode": {
    "name": "ipython",
    "version": 3
   },
   "file_extension": ".py",
   "mimetype": "text/x-python",
   "name": "python",
   "nbconvert_exporter": "python",
   "pygments_lexer": "ipython3",
   "version": "3.11.8"
  }
 },
 "nbformat": 4,
 "nbformat_minor": 2
}
