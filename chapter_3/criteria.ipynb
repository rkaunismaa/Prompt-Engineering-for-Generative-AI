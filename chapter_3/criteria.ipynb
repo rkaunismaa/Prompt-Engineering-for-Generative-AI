{
 "cells": [
  {
   "cell_type": "markdown",
   "metadata": {},
   "source": [
    "#### Wednesday, December 18, 2024"
   ]
  },
  {
   "cell_type": "code",
   "execution_count": 1,
   "metadata": {},
   "outputs": [],
   "source": [
    "# %pip install openai"
   ]
  },
  {
   "cell_type": "code",
   "execution_count": 2,
   "metadata": {},
   "outputs": [],
   "source": [
    "# Deliberately set the OPENAI_API_KEY to an invalid value to ensure that the code is not using it.\n",
    "import os\n",
    "os.environ['OPENAI_API_KEY'] = \"Nope!\""
   ]
  },
  {
   "cell_type": "code",
   "execution_count": 3,
   "metadata": {},
   "outputs": [],
   "source": [
    "from openai import OpenAI\n",
    "import os\n",
    "\n",
    "# client = OpenAI(api_key=os.environ.get(\"OPENAI_API_KEY\"))\n",
    "\n",
    "lmstudio = \"http://192.168.2.16:1234/v1\"\n",
    "\n",
    "client = OpenAI(base_url=lmstudio, api_key=\"lm-studio\")\n",
    "\n",
    "model = \"qwen2.5-14b-instruct@q8_0\" # lmstudio-community/Qwen2.5-14B-Instruct-GGUF :  Qwen2.5-14B-Instruct-Q8_0.gguF\n",
    "temperature = 0.7"
   ]
  },
  {
   "cell_type": "code",
   "execution_count": 4,
   "metadata": {},
   "outputs": [],
   "source": [
    "# from openai import OpenAI\n",
    "# import os\n",
    "\n",
    "# client = OpenAI(api_key=os.environ.get(\"OPENAI_API_KEY\"))\n",
    "\n",
    "responses = []\n",
    "\n",
    "for i in range(10):\n",
    "\n",
    "    # concise if even, verbose if odd\n",
    "    style = \"concise\" if i % 2 == 0 else \"verbose\"\n",
    "\n",
    "    if style == \"concise\":\n",
    "        prompt = f\"Return a {style} answer to the following question: What is the meaning of life?\"\n",
    "    else:\n",
    "        prompt = f\"Return an answer to the following question: What is the meaning of life?\"\n",
    "\n",
    "    response = client.chat.completions.create(\n",
    "        # using GPT-3.5 Turbo for this example\n",
    "        # model=\"gpt-3.5-turbo\",\n",
    "        model = model ,\n",
    "        messages=[{\"role\": \"user\",\n",
    "            \"content\": prompt}])\n",
    "    \n",
    "    responses.append(response.choices[0].message.content.strip())\n",
    "\n",
    "# 47.5s"
   ]
  },
  {
   "cell_type": "code",
   "execution_count": 5,
   "metadata": {},
   "outputs": [],
   "source": [
    "system_prompt = \"\"\"You are assessing the conciseness of a response from a chatbot. \n",
    "You only respond with a 1 if the response is concise, and a 0 if it is not.\n",
    "\"\"\""
   ]
  },
  {
   "cell_type": "code",
   "execution_count": 6,
   "metadata": {},
   "outputs": [],
   "source": [
    "ratings = []\n",
    "\n",
    "for idx, response in enumerate(responses):\n",
    "    \n",
    "    rating = client.chat.completions.create(\n",
    "        # model=\"gpt-4\",\n",
    "        model = model, \n",
    "        messages=[{\"role\": \"system\",\n",
    "            \"content\": system_prompt},\n",
    "            {\"role\": \"system\",\n",
    "            \"content\": response}])\n",
    "    \n",
    "    ratings.append(rating.choices[0].message.content.strip())"
   ]
  },
  {
   "cell_type": "code",
   "execution_count": 7,
   "metadata": {},
   "outputs": [
    {
     "name": "stdout",
     "output_type": "stream",
     "text": [
      "Style: concise,  Rating: 0\n",
      "Style: verbose,  Rating: 0\n",
      "Style: concise,  Rating: 0\n",
      "Style: verbose,  Rating: 0\n",
      "Style: concise,  Rating: 0\n",
      "Style: verbose,  Rating: 0\n",
      "Style: concise,  Rating: 0\n",
      "Style: verbose,  Rating: 0\n",
      "Style: concise,  Rating: 0\n",
      "Style: verbose,  Rating: 0\n"
     ]
    }
   ],
   "source": [
    "for idx, rating in enumerate(ratings):\n",
    "    style = \"concise\" if idx % 2 == 0 else \"verbose\"\n",
    "    print(f\"Style: {style}, \", f\"Rating: {rating}\")\n",
    "\n",
    "# Expected response ...\n",
    "# Style: concise,  Rating: 1\n",
    "# Style: verbose,  Rating: 0\n",
    "# Style: concise,  Rating: 1\n",
    "# Style: verbose,  Rating: 0\n",
    "# Style: concise,  Rating: 1\n",
    "# Style: verbose,  Rating: 0\n",
    "# Style: concise,  Rating: 1\n",
    "# Style: verbose,  Rating: 0\n",
    "# Style: concise,  Rating: 1\n",
    "# Style: verbose,  Rating: 0\n",
    "\n",
    "# Actual response ...\n",
    "\n",
    "# First pass ...\n",
    "# Style: concise,  Rating: 0\n",
    "# Style: verbose,  Rating: 0\n",
    "# Style: concise,  Rating: 0\n",
    "# Style: verbose,  Rating: 0\n",
    "# Style: concise,  Rating: 0\n",
    "# Style: verbose,  Rating: 0\n",
    "# Style: concise,  Rating: 0\n",
    "# Style: verbose,  Rating: 0\n",
    "# Style: concise,  Rating: 0\n",
    "# Style: verbose,  Rating: 0\n",
    "\n",
    "# Second pass ...\n",
    "# Style: concise,  Rating: 0\n",
    "# Style: verbose,  Rating: 0\n",
    "# Style: concise,  Rating: 0\n",
    "# Style: verbose,  Rating: 0\n",
    "# Style: concise,  Rating: 0\n",
    "# Style: verbose,  Rating: 0\n",
    "# Style: concise,  Rating: 0\n",
    "# Style: verbose,  Rating: 0\n",
    "# Style: concise,  Rating: 0\n",
    "# Style: verbose,  Rating: 0"
   ]
  }
 ],
 "metadata": {
  "kernelspec": {
   "display_name": "pe4gai",
   "language": "python",
   "name": "python3"
  },
  "language_info": {
   "codemirror_mode": {
    "name": "ipython",
    "version": 3
   },
   "file_extension": ".py",
   "mimetype": "text/x-python",
   "name": "python",
   "nbconvert_exporter": "python",
   "pygments_lexer": "ipython3",
   "version": "3.11.8"
  }
 },
 "nbformat": 4,
 "nbformat_minor": 2
}
