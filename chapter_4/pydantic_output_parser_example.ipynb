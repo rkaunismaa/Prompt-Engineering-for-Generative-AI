{
  "cells": [
    {
      "cell_type": "markdown",
      "metadata": {},
      "source": [
        "#### Friday, December 20, \n",
        "\n",
        "This alll runs in one pass."
      ]
    },
    {
      "cell_type": "code",
      "execution_count": 1,
      "metadata": {},
      "outputs": [],
      "source": [
        "# Deliberately set the OPENAI_API_KEY to an invalid value to ensure that the code is not using it.\n",
        "import os\n",
        "os.environ['OPENAI_API_KEY'] = \"Nope!\""
      ]
    },
    {
      "cell_type": "code",
      "execution_count": 2,
      "metadata": {},
      "outputs": [],
      "source": [
        "from langchain_core.prompts.chat import (\n",
        "    ChatPromptTemplate,\n",
        "    SystemMessagePromptTemplate,\n",
        ")"
      ]
    },
    {
      "cell_type": "code",
      "execution_count": 3,
      "metadata": {},
      "outputs": [],
      "source": [
        "from langchain_openai.chat_models import ChatOpenAI\n",
        "from langchain.output_parsers import PydanticOutputParser\n",
        "from pydantic.v1 import BaseModel, Field\n",
        "from typing import List"
      ]
    },
    {
      "cell_type": "code",
      "execution_count": 4,
      "metadata": {},
      "outputs": [],
      "source": [
        "temperature = 0.0\n",
        "\n",
        "class BusinessName(BaseModel):\n",
        "    name: str = Field(description=\"The name of the business\")\n",
        "    rating_score: float = Field(description=\"The rating score of the business. 0 is the worst, 10 is the best.\")"
      ]
    },
    {
      "cell_type": "code",
      "execution_count": 5,
      "metadata": {},
      "outputs": [],
      "source": [
        "class BusinessNames(BaseModel):\n",
        "    names: List[BusinessName] = Field(description=\"A list of business names\")"
      ]
    },
    {
      "cell_type": "code",
      "execution_count": 6,
      "metadata": {},
      "outputs": [],
      "source": [
        "# Set up a parser + inject instructions into the prompt template.\n",
        "parser = PydanticOutputParser(pydantic_object=BusinessNames)"
      ]
    },
    {
      "cell_type": "code",
      "execution_count": 7,
      "metadata": {},
      "outputs": [],
      "source": [
        "principles = \"\"\"\n",
        "- The name must be easy to remember.\n",
        "- Use the {industry} industry and Company context to create an effective name.\n",
        "- The name must be easy to pronounce.\n",
        "- You must only return the name without any other text or characters.\n",
        "- Avoid returning full stops, \\n or any other characters.\n",
        "- The maximum length of the name must be 10 characters.\n",
        "\"\"\""
      ]
    },
    {
      "cell_type": "code",
      "execution_count": 8,
      "metadata": {},
      "outputs": [],
      "source": [
        "# Chat Model Output Parser:\n",
        "# model = ChatOpenAI() \n",
        "lmstudio = \"http://localhost:1234/v1\"\n",
        "model = \"qwen2.5-14b-instruct@q8_0\" # lmstudio-community/Qwen2.5-14B-Instruct-GGUF :  Qwen2.5-14B-Instruct-Q4_K_M.gguf\n",
        "\n",
        "chat = ChatOpenAI(base_url=lmstudio, model=model, api_key=\"LMStudio\", temperature=temperature)"
      ]
    },
    {
      "cell_type": "code",
      "execution_count": 9,
      "metadata": {},
      "outputs": [],
      "source": [
        "template = \"\"\"Generate 5 business names for a new start up company in the {industry} industry. \n",
        "You must follow the following principles: {principles}\n",
        "{format_instructions}\n",
        "\"\"\"\n",
        "system_message_prompt = SystemMessagePromptTemplate.from_template(template)\n",
        "chat_prompt = ChatPromptTemplate.from_messages([system_message_prompt])"
      ]
    },
    {
      "cell_type": "code",
      "execution_count": 10,
      "metadata": {},
      "outputs": [],
      "source": [
        "# prompt_and_model = chat_prompt | model\n",
        "prompt_and_model = chat_prompt | chat"
      ]
    },
    {
      "cell_type": "code",
      "execution_count": 11,
      "metadata": {},
      "outputs": [
        {
          "name": "stdout",
          "output_type": "stream",
          "text": [
            "names=[BusinessName(name='DataViz', rating_score=9.0), BusinessName(name='InsightIQ', rating_score=8.5), BusinessName(name='CodeNest', rating_score=9.2), BusinessName(name='DataSpark', rating_score=8.7), BusinessName(name='BrainByte', rating_score=9.1)]\n"
          ]
        }
      ],
      "source": [
        "result = prompt_and_model.invoke(\n",
        "    {\n",
        "        \"principles\": principles,\n",
        "        \"industry\": \"Data Science\",\n",
        "        \"format_instructions\": parser.get_format_instructions(),\n",
        "    }\n",
        ")\n",
        "print(parser.parse(result.content))\n",
        "\n",
        "# 21.3s"
      ]
    },
    {
      "cell_type": "code",
      "execution_count": 12,
      "metadata": {},
      "outputs": [
        {
          "name": "stdout",
          "output_type": "stream",
          "text": [
            "names=[BusinessName(name='DataViz', rating_score=9.0), BusinessName(name='InsightIQ', rating_score=8.5), BusinessName(name='CodeNest', rating_score=9.2), BusinessName(name='DataSpark', rating_score=8.7), BusinessName(name='BrainByte', rating_score=9.1)]\n"
          ]
        }
      ],
      "source": [
        "# chain = chat_prompt | model | parser\n",
        "chain = chat_prompt | chat | parser\n",
        "\n",
        "result = chain.invoke(\n",
        "    {\n",
        "        \"principles\": principles,   \n",
        "        \"industry\": \"Data Science\",\n",
        "        \"format_instructions\": parser.get_format_instructions(),\n",
        "    }\n",
        ")\n",
        "print(result)\n",
        "\n",
        "# 21.9s"
      ]
    },
    {
      "cell_type": "code",
      "execution_count": 13,
      "metadata": {},
      "outputs": [
        {
          "name": "stdout",
          "output_type": "stream",
          "text": [
            "names=[BusinessName(name='DataViz', rating_score=9.0), BusinessName(name='InsightIQ', rating_score=8.5), BusinessName(name='CodeNest', rating_score=9.2), BusinessName(name='DataSpark', rating_score=8.7), BusinessName(name='BrainByte', rating_score=9.1)] \n",
            "\n",
            "{\"names\": [{\"name\": \"DataViz\", \"rating_score\": 9.0}, {\"name\": \"InsightIQ\", \"rating_score\": 8.5}, {\"name\": \"CodeNest\", \"rating_score\": 9.2}, {\"name\": \"DataSpark\", \"rating_score\": 8.7}, {\"name\": \"BrainByte\", \"rating_score\": 9.1}]}\n"
          ]
        }
      ],
      "source": [
        "# Technically you can also write it like model() which uses the __call__ method. However the _call__ method is an older syntax.\n",
        "\n",
        "# Or simply use model.invoke(input) whilst using .format_prompt():\n",
        "# chat_response_output = model.invoke(\n",
        "#     chat_prompt.format_prompt(\n",
        "#         principles=principles,\n",
        "#         industry=\"Data Science\",\n",
        "#         format_instructions=parser.get_format_instructions(),\n",
        "#     ).to_messages()\n",
        "# )\n",
        "\n",
        "chat_response_output = chat.invoke(\n",
        "    chat_prompt.format_prompt(\n",
        "        principles=principles,\n",
        "        industry=\"Data Science\",\n",
        "        format_instructions=parser.get_format_instructions(),\n",
        "    ).to_messages()\n",
        ")\n",
        "\n",
        "pydantic_schema: BusinessNames = parser.parse(chat_response_output.content)\n",
        "print(pydantic_schema, \"\\n\")\n",
        "print(pydantic_schema.json())\n",
        "\n",
        "# 21.6s"
      ]
    }
  ],
  "metadata": {
    "kernelspec": {
      "display_name": "pe4gai",
      "language": "python",
      "name": "python3"
    },
    "language_info": {
      "codemirror_mode": {
        "name": "ipython",
        "version": 3
      },
      "file_extension": ".py",
      "mimetype": "text/x-python",
      "name": "python",
      "nbconvert_exporter": "python",
      "pygments_lexer": "ipython3",
      "version": "3.11.8"
    }
  },
  "nbformat": 4,
  "nbformat_minor": 2
}
