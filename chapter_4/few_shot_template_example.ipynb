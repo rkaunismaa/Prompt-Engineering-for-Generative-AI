{
  "cells": [
    {
      "cell_type": "markdown",
      "metadata": {},
      "source": [
        "#### Monday, December 23, 2024\n",
        "\n",
        "This all runs in one pass."
      ]
    },
    {
      "cell_type": "code",
      "execution_count": 1,
      "metadata": {},
      "outputs": [],
      "source": [
        "# Deliberately set the OPENAI_API_KEY to an invalid value to ensure that the code is not using it.\n",
        "import os\n",
        "os.environ['OPENAI_API_KEY'] = \"Nope!\""
      ]
    },
    {
      "cell_type": "code",
      "execution_count": 2,
      "metadata": {},
      "outputs": [],
      "source": [
        "from langchain_openai.chat_models import ChatOpenAI\n",
        "from langchain_core.prompts import (\n",
        "    FewShotChatMessagePromptTemplate,\n",
        "    ChatPromptTemplate,\n",
        ")\n",
        "import pickle"
      ]
    },
    {
      "cell_type": "code",
      "execution_count": 3,
      "metadata": {},
      "outputs": [],
      "source": [
        "examples = [\n",
        "    {\n",
        "        \"question\": \"What is the capital of France?\",\n",
        "        \"answer\": \"Paris\",\n",
        "    },\n",
        "    {\n",
        "        \"question\": \"What is the capital of Spain?\",\n",
        "        \"answer\": \"Madrid\",\n",
        "    },\n",
        "    {\n",
        "        \"question\": \"What is the capital of Germany?\",\n",
        "        \"answer\": \"Berlin\",\n",
        "    },\n",
        "    {\n",
        "        \"question\": \"What is the capital of England?\",\n",
        "        \"answer\": \"London\",\n",
        "    },\n",
        "]"
      ]
    },
    {
      "cell_type": "code",
      "execution_count": 4,
      "metadata": {},
      "outputs": [],
      "source": [
        "example_prompt = ChatPromptTemplate.from_messages(\n",
        "    [\n",
        "        (\"human\", \"{question}\"),\n",
        "        (\"ai\", \"{answer}\"),\n",
        "    ]\n",
        ")"
      ]
    },
    {
      "cell_type": "code",
      "execution_count": 5,
      "metadata": {},
      "outputs": [
        {
          "name": "stdout",
          "output_type": "stream",
          "text": [
            "Human: What is the capital of France?\n",
            "AI: Paris\n",
            "Human: What is the capital of Spain?\n",
            "AI: Madrid\n",
            "Human: What is the capital of Germany?\n",
            "AI: Berlin\n",
            "Human: What is the capital of England?\n",
            "AI: London\n"
          ]
        }
      ],
      "source": [
        "few_shot_prompt = FewShotChatMessagePromptTemplate(\n",
        "    example_prompt=example_prompt,\n",
        "    examples=examples,\n",
        ")\n",
        "\n",
        "print(few_shot_prompt.format())"
      ]
    },
    {
      "cell_type": "code",
      "execution_count": 6,
      "metadata": {},
      "outputs": [],
      "source": [
        "from langchain_core.output_parsers import StrOutputParser\n",
        "\n",
        "final_prompt = ChatPromptTemplate.from_messages(\n",
        "    [\n",
        "        (\n",
        "            \"system\",\n",
        "            \"You are a responsible for answering questions about countries. Only return the country name.\",\n",
        "        ),\n",
        "        few_shot_prompt,\n",
        "        (\"human\", \"{question}\"),\n",
        "    ]\n",
        ")"
      ]
    },
    {
      "cell_type": "code",
      "execution_count": 7,
      "metadata": {},
      "outputs": [],
      "source": [
        "# model = ChatOpenAI()\n",
        "\n",
        "from langchain_openai.chat_models import ChatOpenAI\n",
        "import json\n",
        "from os import getenv\n",
        "\n",
        "# 2070 Super\n",
        "api_key = \"LMStudio\"\n",
        "lmstudio = \"http://127.0.0.1:1234/v1\"\n",
        "model = \"lmstudio-community/Qwen2.5-14B-Instruct-GGUF\"\n",
        "\n",
        "# chat = ChatOpenAI(base_url=lmstudio, model=model, api_key=\"LMStudio\",  model_kwargs={\"response_format\": {\"type\": \"json_object\"}})\n",
        "model = ChatOpenAI(base_url=lmstudio, api_key=api_key)"
      ]
    },
    {
      "cell_type": "code",
      "execution_count": 8,
      "metadata": {},
      "outputs": [],
      "source": [
        "# Creating the LCEL chain with the prompt, model and a StrOutputParser()\n",
        "chain = final_prompt | model | StrOutputParser()"
      ]
    },
    {
      "cell_type": "code",
      "execution_count": 9,
      "metadata": {},
      "outputs": [
        {
          "name": "stdout",
          "output_type": "stream",
          "text": [
            "Washington, D.C.\n"
          ]
        }
      ],
      "source": [
        "result = chain.invoke(\n",
        "    {\n",
        "        \"question\": \"What is the capital of America?\"\n",
        "    }\n",
        ")\n",
        "\n",
        "print(result)"
      ]
    },
    {
      "cell_type": "code",
      "execution_count": 10,
      "metadata": {},
      "outputs": [
        {
          "data": {
            "text/plain": [
              "[{'question': 'What is the capital of France?', 'answer': 'Paris'},\n",
              " {'question': 'What is the capital of Spain?', 'answer': 'Madrid'},\n",
              " {'question': 'What is the capital of Germany?', 'answer': 'Berlin'},\n",
              " {'question': 'What is the capital of England?', 'answer': 'London'}]"
            ]
          },
          "execution_count": 10,
          "metadata": {},
          "output_type": "execute_result"
        }
      ],
      "source": [
        "few_shot_prompt.examples"
      ]
    },
    {
      "cell_type": "code",
      "execution_count": 11,
      "metadata": {},
      "outputs": [],
      "source": [
        "# Pickle it:\n",
        "with open('few_shot_prompt.pickle', 'wb') as f:\n",
        "    pickle.dump(few_shot_prompt, f)\n",
        "\n",
        "# Load it:\n",
        "with open('few_shot_prompt.pickle', 'rb') as f:\n",
        "    few_shot_prompt = pickle.load(f)"
      ]
    }
  ],
  "metadata": {
    "kernelspec": {
      "display_name": "pe4gai",
      "language": "python",
      "name": "python3"
    },
    "language_info": {
      "codemirror_mode": {
        "name": "ipython",
        "version": 3
      },
      "file_extension": ".py",
      "mimetype": "text/x-python",
      "name": "python",
      "nbconvert_exporter": "python",
      "pygments_lexer": "ipython3",
      "version": "3.11.8"
    },
    "orig_nbformat": 4
  },
  "nbformat": 4,
  "nbformat_minor": 2
}
