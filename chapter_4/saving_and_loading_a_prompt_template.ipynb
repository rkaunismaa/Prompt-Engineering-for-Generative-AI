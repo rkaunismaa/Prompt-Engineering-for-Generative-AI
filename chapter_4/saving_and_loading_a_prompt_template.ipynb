{
 "cells": [
  {
   "cell_type": "markdown",
   "metadata": {},
   "source": [
    "#### Monday, December 23, 2024\n",
    "\n",
    "This all runs in one pass."
   ]
  },
  {
   "cell_type": "code",
   "execution_count": 1,
   "metadata": {},
   "outputs": [],
   "source": [
    "from langchain_core.prompts import PromptTemplate, load_prompt\n",
    "\n",
    "prompt = PromptTemplate(\n",
    "    template=\"Translate this sentence from English to Spanish.\\nSentence: {sentence}\\nTranslation:\",\n",
    "    input_variables=[\"sentence\"],\n",
    ")"
   ]
  },
  {
   "cell_type": "code",
   "execution_count": 2,
   "metadata": {},
   "outputs": [],
   "source": [
    "prompt.save(\"translation_prompt.json\")"
   ]
  },
  {
   "cell_type": "code",
   "execution_count": 3,
   "metadata": {},
   "outputs": [
    {
     "data": {
      "text/plain": [
       "PromptTemplate(input_variables=['sentence'], template='Translate this sentence from English to Spanish.\\nSentence: {sentence}\\nTranslation:')"
      ]
     },
     "execution_count": 3,
     "metadata": {},
     "output_type": "execute_result"
    }
   ],
   "source": [
    "# Loading the prompt template:\n",
    "load_prompt(\"translation_prompt.json\")"
   ]
  },
  {
   "cell_type": "markdown",
   "metadata": {},
   "source": [
    "    {\n",
    "        \"name\": null,\n",
    "        \"input_variables\": [\n",
    "            \"sentence\"\n",
    "        ],\n",
    "        \"input_types\": {},\n",
    "        \"output_parser\": null,\n",
    "        \"partial_variables\": {},\n",
    "        \"metadata\": null,\n",
    "        \"tags\": null,\n",
    "        \"template\": \"Translate this sentence from English to Spanish.\\nSentence: {sentence}\\nTranslation:\",\n",
    "        \"template_format\": \"f-string\",\n",
    "        \"validate_template\": false,\n",
    "        \"_type\": \"prompt\"\n",
    "    }"
   ]
  },
  {
   "cell_type": "markdown",
   "metadata": {},
   "source": []
  }
 ],
 "metadata": {
  "kernelspec": {
   "display_name": "pe4gai",
   "language": "python",
   "name": "python3"
  },
  "language_info": {
   "codemirror_mode": {
    "name": "ipython",
    "version": 3
   },
   "file_extension": ".py",
   "mimetype": "text/x-python",
   "name": "python",
   "nbconvert_exporter": "python",
   "pygments_lexer": "ipython3",
   "version": "3.11.8"
  },
  "orig_nbformat": 4
 },
 "nbformat": 4,
 "nbformat_minor": 2
}
