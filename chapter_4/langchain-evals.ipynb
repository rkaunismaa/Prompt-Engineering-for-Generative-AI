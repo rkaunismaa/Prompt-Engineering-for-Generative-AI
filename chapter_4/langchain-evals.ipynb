{
  "cells": [
    {
      "cell_type": "markdown",
      "metadata": {},
      "source": [
        "#### Friday, December 20, 2024"
      ]
    },
    {
      "cell_type": "code",
      "execution_count": 1,
      "metadata": {},
      "outputs": [],
      "source": [
        "# Deliberately set the OPENAI_API_KEY to an invalid value to ensure that the code is not using it.\n",
        "import os\n",
        "os.environ['OPENAI_API_KEY'] = \"Nope!\""
      ]
    },
    {
      "cell_type": "code",
      "execution_count": 2,
      "metadata": {},
      "outputs": [],
      "source": [
        "# %pip install langchain langchain_openai langchain_mistralai pandas tqdm --upgrade --quiet"
      ]
    },
    {
      "cell_type": "markdown",
      "metadata": {},
      "source": [
        "## Generate Ground Truth Data with GPT-4 API\n",
        "\n",
        "Creating the known labels or ground truth data can be time consuming and expensive. You can use GPT-4 to _generate the ground truth data_ for you. This is useful for training your own models, and for evaluating the performance of other models. Then you can use these evals to test whether the open source or smaller / faster / cheaper models are performing as well as the larger / slower / more expensive models."
      ]
    },
    {
      "cell_type": "code",
      "execution_count": 2,
      "metadata": {},
      "outputs": [
        {
          "data": {
            "text/html": [
              "<div>\n",
              "<style scoped>\n",
              "    .dataframe tbody tr th:only-of-type {\n",
              "        vertical-align: middle;\n",
              "    }\n",
              "\n",
              "    .dataframe tbody tr th {\n",
              "        vertical-align: top;\n",
              "    }\n",
              "\n",
              "    .dataframe thead th {\n",
              "        text-align: right;\n",
              "    }\n",
              "</style>\n",
              "<table border=\"1\" class=\"dataframe\">\n",
              "  <thead>\n",
              "    <tr style=\"text-align: right;\">\n",
              "      <th></th>\n",
              "      <th>Transaction Description</th>\n",
              "    </tr>\n",
              "  </thead>\n",
              "  <tbody>\n",
              "    <tr>\n",
              "      <th>0</th>\n",
              "      <td>cash deposit at local branch</td>\n",
              "    </tr>\n",
              "    <tr>\n",
              "      <th>1</th>\n",
              "      <td>cash deposit at local branch</td>\n",
              "    </tr>\n",
              "    <tr>\n",
              "      <th>2</th>\n",
              "      <td>withdrew money for rent payment</td>\n",
              "    </tr>\n",
              "    <tr>\n",
              "      <th>3</th>\n",
              "      <td>withdrew cash for weekend expenses</td>\n",
              "    </tr>\n",
              "    <tr>\n",
              "      <th>4</th>\n",
              "      <td>purchased books from the bookstore</td>\n",
              "    </tr>\n",
              "  </tbody>\n",
              "</table>\n",
              "</div>"
            ],
            "text/plain": [
              "              Transaction Description\n",
              "0        cash deposit at local branch\n",
              "1        cash deposit at local branch\n",
              "2     withdrew money for rent payment\n",
              "3  withdrew cash for weekend expenses\n",
              "4  purchased books from the bookstore"
            ]
          },
          "execution_count": 2,
          "metadata": {},
          "output_type": "execute_result"
        }
      ],
      "source": [
        "import pandas as pd\n",
        "from tqdm import tqdm\n",
        "import requests\n",
        "import io\n",
        "\n",
        "# Dataset URL:\n",
        "url = \"https://storage.googleapis.com/oreilly-content/transaction_data_with_expanded_descriptions.csv\"\n",
        "\n",
        "# Download the file from the URL:\n",
        "downloaded_file = requests.get(url)\n",
        "\n",
        "# Load the transactions dataset and only look at 20 transactions:\n",
        "df = pd.read_csv(io.StringIO(downloaded_file.text))[:20]\n",
        "df.head()"
      ]
    },
    {
      "cell_type": "code",
      "execution_count": 3,
      "metadata": {},
      "outputs": [],
      "source": [
        "# Run through the dataset using GPT-4 to correctly classify the transactions:\n",
        "from langchain_openai.chat_models import ChatOpenAI\n",
        "from langchain.output_parsers import PydanticOutputParser\n",
        "from langchain_core.prompts import ChatPromptTemplate\n",
        "from pydantic.v1 import BaseModel\n",
        "from typing import Literal, Union\n"
      ]
    },
    {
      "cell_type": "code",
      "execution_count": 4,
      "metadata": {},
      "outputs": [],
      "source": [
        "# 1. Define the model:\n",
        "# model = ChatOpenAI(\n",
        "#     model=\"gpt-4-1106-preview\",\n",
        "#     model_kwargs={\"response_format\": {\"type\": \"json_object\"}},\n",
        "# )\n",
        "\n",
        "# Chat Model Output Parser:\n",
        "# model = ChatOpenAI() \n",
        "lmstudio = \"http://localhost:1234/v1\"\n",
        "model = \"qwen2.5-14b-instruct@q8_0\" # lmstudio-community/Qwen2.5-14B-Instruct-GGUF :  Qwen2.5-14B-Instruct-Q4_K_M.gguf\n",
        "\n",
        "# chat = ChatOpenAI(base_url=lmstudio, model=model, api_key=\"LMStudio\",  model_kwargs={\"response_format\": {\"type\": \"json_object\"}})\n",
        "lmchat = ChatOpenAI(base_url=lmstudio, model=model, api_key=\"LMStudio\")"
      ]
    },
    {
      "cell_type": "code",
      "execution_count": 5,
      "metadata": {},
      "outputs": [],
      "source": [
        "system_prompt = \"\"\"You are are an expert at analyzing bank transactions, \n",
        "you will be categorising a single transaction. \n",
        "Always return a transaction type and category: do not return None.\n",
        "Format Instructions:\n",
        "{format_instructions}\"\"\"\n",
        "\n",
        "user_prompt = \"\"\"Transaction Text:\n",
        "{transaction}\"\"\""
      ]
    },
    {
      "cell_type": "code",
      "execution_count": 6,
      "metadata": {},
      "outputs": [],
      "source": [
        "# 2. Define the prompt:\n",
        "prompt = ChatPromptTemplate.from_messages(\n",
        "    [\n",
        "        (\n",
        "            \"system\",\n",
        "            system_prompt,\n",
        "        ),\n",
        "        (\n",
        "            \"user\",\n",
        "            user_prompt,\n",
        "        ),\n",
        "    ]\n",
        ")\n"
      ]
    },
    {
      "cell_type": "code",
      "execution_count": 7,
      "metadata": {},
      "outputs": [],
      "source": [
        "# 3. Define the pydantic model:\n",
        "class EnrichedTransactionInformation(BaseModel):\n",
        "    transaction_type: Union[\n",
        "        Literal[\"Purchase\", \"Withdrawal\", \"Deposit\", \"Bill Payment\", \"Refund\"], None\n",
        "    ]\n",
        "    transaction_category: Union[\n",
        "        Literal[\"Food\", \"Entertainment\", \"Transport\", \"Utilities\", \"Rent\", \"Other\"],\n",
        "        None,\n",
        "    ]\n"
      ]
    },
    {
      "cell_type": "code",
      "execution_count": 8,
      "metadata": {},
      "outputs": [],
      "source": [
        "# 4. Define the output parser:\n",
        "output_parser = PydanticOutputParser(pydantic_object=EnrichedTransactionInformation)"
      ]
    },
    {
      "cell_type": "code",
      "execution_count": 9,
      "metadata": {},
      "outputs": [],
      "source": [
        "# 5. Create an LCEL chain:\n",
        "# chain = prompt | model | output_parser\n",
        "chain = prompt | lmchat | output_parser"
      ]
    },
    {
      "cell_type": "code",
      "execution_count": 10,
      "metadata": {},
      "outputs": [
        {
          "name": "stderr",
          "output_type": "stream",
          "text": [
            "100%|██████████| 20/20 [01:00<00:00,  3.01s/it]\n"
          ]
        }
      ],
      "source": [
        "# 6. Invoke the chain for the whole dataset:\n",
        "results = []\n",
        "\n",
        "for i, row in tqdm(df.iterrows(), total=len(df)):\n",
        "    transaction = row[\"Transaction Description\"]\n",
        "    result = chain.invoke(\n",
        "        {\n",
        "            \"transaction\": transaction,\n",
        "            \"format_instructions\": output_parser.get_format_instructions(),\n",
        "        }\n",
        "    )\n",
        "    results.append(result)"
      ]
    },
    {
      "cell_type": "code",
      "execution_count": 11,
      "metadata": {},
      "outputs": [],
      "source": [
        "# 7. Add the results to the dataframe, as columns transaction type and transaction category\n",
        "transaction_types = []\n",
        "transaction_categories = []\n",
        "\n",
        "for result in results:\n",
        "    transaction_types.append(result.transaction_type)\n",
        "    transaction_categories.append(result.transaction_category)"
      ]
    },
    {
      "cell_type": "code",
      "execution_count": 12,
      "metadata": {},
      "outputs": [
        {
          "data": {
            "text/html": [
              "<div>\n",
              "<style scoped>\n",
              "    .dataframe tbody tr th:only-of-type {\n",
              "        vertical-align: middle;\n",
              "    }\n",
              "\n",
              "    .dataframe tbody tr th {\n",
              "        vertical-align: top;\n",
              "    }\n",
              "\n",
              "    .dataframe thead th {\n",
              "        text-align: right;\n",
              "    }\n",
              "</style>\n",
              "<table border=\"1\" class=\"dataframe\">\n",
              "  <thead>\n",
              "    <tr style=\"text-align: right;\">\n",
              "      <th></th>\n",
              "      <th>Transaction Description</th>\n",
              "      <th>transaction_type</th>\n",
              "      <th>transaction_category</th>\n",
              "    </tr>\n",
              "  </thead>\n",
              "  <tbody>\n",
              "    <tr>\n",
              "      <th>0</th>\n",
              "      <td>cash deposit at local branch</td>\n",
              "      <td>Deposit</td>\n",
              "      <td>Other</td>\n",
              "    </tr>\n",
              "    <tr>\n",
              "      <th>1</th>\n",
              "      <td>cash deposit at local branch</td>\n",
              "      <td>Deposit</td>\n",
              "      <td>Other</td>\n",
              "    </tr>\n",
              "    <tr>\n",
              "      <th>2</th>\n",
              "      <td>withdrew money for rent payment</td>\n",
              "      <td>Withdrawal</td>\n",
              "      <td>Rent</td>\n",
              "    </tr>\n",
              "    <tr>\n",
              "      <th>3</th>\n",
              "      <td>withdrew cash for weekend expenses</td>\n",
              "      <td>Withdrawal</td>\n",
              "      <td>Other</td>\n",
              "    </tr>\n",
              "    <tr>\n",
              "      <th>4</th>\n",
              "      <td>purchased books from the bookstore</td>\n",
              "      <td>Purchase</td>\n",
              "      <td>Other</td>\n",
              "    </tr>\n",
              "  </tbody>\n",
              "</table>\n",
              "</div>"
            ],
            "text/plain": [
              "              Transaction Description transaction_type transaction_category\n",
              "0        cash deposit at local branch          Deposit                Other\n",
              "1        cash deposit at local branch          Deposit                Other\n",
              "2     withdrew money for rent payment       Withdrawal                 Rent\n",
              "3  withdrew cash for weekend expenses       Withdrawal                Other\n",
              "4  purchased books from the bookstore         Purchase                Other"
            ]
          },
          "execution_count": 12,
          "metadata": {},
          "output_type": "execute_result"
        }
      ],
      "source": [
        "df[\"transaction_type\"] = transaction_types\n",
        "df[\"transaction_category\"] = transaction_categories\n",
        "df.head()"
      ]
    },
    {
      "cell_type": "code",
      "execution_count": 13,
      "metadata": {},
      "outputs": [],
      "source": [
        "df.to_csv(\"_transactions_with_enriched_data.csv\", index=False)"
      ]
    },
    {
      "cell_type": "markdown",
      "metadata": {},
      "source": [
        "## Obtain the Accuracy of Mistral API:"
      ]
    },
    {
      "cell_type": "code",
      "execution_count": 14,
      "metadata": {},
      "outputs": [
        {
          "data": {
            "text/plain": [
              "False"
            ]
          },
          "execution_count": 14,
          "metadata": {},
          "output_type": "execute_result"
        }
      ],
      "source": [
        "from dotenv import load_dotenv\n",
        "load_dotenv()"
      ]
    },
    {
      "cell_type": "markdown",
      "metadata": {},
      "source": [
        "This next cell downloads the same file we created above, so use this downloaded version versus the one we created above."
      ]
    },
    {
      "cell_type": "code",
      "execution_count": 15,
      "metadata": {},
      "outputs": [
        {
          "data": {
            "text/html": [
              "<div>\n",
              "<style scoped>\n",
              "    .dataframe tbody tr th:only-of-type {\n",
              "        vertical-align: middle;\n",
              "    }\n",
              "\n",
              "    .dataframe tbody tr th {\n",
              "        vertical-align: top;\n",
              "    }\n",
              "\n",
              "    .dataframe thead th {\n",
              "        text-align: right;\n",
              "    }\n",
              "</style>\n",
              "<table border=\"1\" class=\"dataframe\">\n",
              "  <thead>\n",
              "    <tr style=\"text-align: right;\">\n",
              "      <th></th>\n",
              "      <th>Transaction Description</th>\n",
              "      <th>transaction_type</th>\n",
              "      <th>transaction_category</th>\n",
              "    </tr>\n",
              "  </thead>\n",
              "  <tbody>\n",
              "    <tr>\n",
              "      <th>0</th>\n",
              "      <td>cash deposit at local branch</td>\n",
              "      <td>Deposit</td>\n",
              "      <td>Other</td>\n",
              "    </tr>\n",
              "    <tr>\n",
              "      <th>1</th>\n",
              "      <td>cash deposit at local branch</td>\n",
              "      <td>Deposit</td>\n",
              "      <td>Other</td>\n",
              "    </tr>\n",
              "    <tr>\n",
              "      <th>2</th>\n",
              "      <td>withdrew money for rent payment</td>\n",
              "      <td>Withdrawal</td>\n",
              "      <td>Rent</td>\n",
              "    </tr>\n",
              "    <tr>\n",
              "      <th>3</th>\n",
              "      <td>withdrew cash for weekend expenses</td>\n",
              "      <td>Withdrawal</td>\n",
              "      <td>Other</td>\n",
              "    </tr>\n",
              "    <tr>\n",
              "      <th>4</th>\n",
              "      <td>purchased books from the bookstore</td>\n",
              "      <td>Purchase</td>\n",
              "      <td>Other</td>\n",
              "    </tr>\n",
              "  </tbody>\n",
              "</table>\n",
              "</div>"
            ],
            "text/plain": [
              "              Transaction Description transaction_type transaction_category\n",
              "0        cash deposit at local branch          Deposit                Other\n",
              "1        cash deposit at local branch          Deposit                Other\n",
              "2     withdrew money for rent payment       Withdrawal                 Rent\n",
              "3  withdrew cash for weekend expenses       Withdrawal                Other\n",
              "4  purchased books from the bookstore         Purchase                Other"
            ]
          },
          "execution_count": 15,
          "metadata": {},
          "output_type": "execute_result"
        }
      ],
      "source": [
        "import pandas as pd\n",
        "from tqdm import tqdm\n",
        "import requests\n",
        "import io\n",
        "\n",
        "# Dataset URL:\n",
        "url = \"https://storage.googleapis.com/oreilly-content/transactions_with_enriched_data.csv\"\n",
        "\n",
        "# Download the file from the URL:\n",
        "downloaded_file = requests.get(url)\n",
        "\n",
        "# Load the transactions dataset:\n",
        "df = pd.read_csv(io.StringIO(downloaded_file.text))\n",
        "df.head()"
      ]
    },
    {
      "cell_type": "code",
      "execution_count": 16,
      "metadata": {},
      "outputs": [],
      "source": [
        "from langchain_mistralai.chat_models import ChatMistralAI\n",
        "from langchain.output_parsers import PydanticOutputParser\n",
        "from langchain_core.prompts import ChatPromptTemplate\n",
        "from pydantic.v1 import BaseModel\n",
        "from typing import Literal, Union\n",
        "import os"
      ]
    },
    {
      "cell_type": "code",
      "execution_count": 17,
      "metadata": {},
      "outputs": [],
      "source": [
        "# 1. Define the model:\n",
        "mistral_api_key = os.environ[\"MISTRAL_API_KEY\"]"
      ]
    },
    {
      "cell_type": "code",
      "execution_count": null,
      "metadata": {},
      "outputs": [],
      "source": [
        "print(mistral_api_key)"
      ]
    },
    {
      "cell_type": "code",
      "execution_count": 19,
      "metadata": {},
      "outputs": [],
      "source": [
        "maimodel = ChatMistralAI(model=\"mistral-small\", mistral_api_key=mistral_api_key)"
      ]
    },
    {
      "cell_type": "code",
      "execution_count": 20,
      "metadata": {},
      "outputs": [],
      "source": [
        "# 2. Define the prompt:\n",
        "system_prompt = \"\"\"You are are an expert at analyzing bank transactions, \n",
        "you will be categorising a single transaction. \n",
        "Always return a transaction type and category: do not return None.\n",
        "Format Instructions:\n",
        "{format_instructions}\"\"\"\n",
        "\n",
        "user_prompt = \"\"\"Transaction Text:\n",
        "{transaction}\"\"\""
      ]
    },
    {
      "cell_type": "code",
      "execution_count": 21,
      "metadata": {},
      "outputs": [],
      "source": [
        "prompt = ChatPromptTemplate.from_messages(\n",
        "    [\n",
        "        (\n",
        "            \"system\",\n",
        "            system_prompt,\n",
        "        ),\n",
        "        (\n",
        "            \"user\",\n",
        "            user_prompt,\n",
        "        ),\n",
        "    ]\n",
        ")"
      ]
    },
    {
      "cell_type": "code",
      "execution_count": 22,
      "metadata": {},
      "outputs": [],
      "source": [
        "# 3. Define the pydantic model:\n",
        "class EnrichedTransactionInformation(BaseModel):\n",
        "    transaction_type: Union[\n",
        "        Literal[\"Purchase\", \"Withdrawal\", \"Deposit\", \"Bill Payment\", \"Refund\"], None\n",
        "    ]\n",
        "    transaction_category: Union[\n",
        "        Literal[\"Food\", \"Entertainment\", \"Transport\", \"Utilities\", \"Rent\", \"Other\"],\n",
        "        None,\n",
        "    ]"
      ]
    },
    {
      "cell_type": "code",
      "execution_count": 23,
      "metadata": {},
      "outputs": [],
      "source": [
        "# 4. Define the output parser:\n",
        "output_parser = PydanticOutputParser(pydantic_object=EnrichedTransactionInformation)"
      ]
    },
    {
      "cell_type": "code",
      "execution_count": 24,
      "metadata": {},
      "outputs": [],
      "source": [
        "# 5. Create an LCEL chain:\n",
        "chain = prompt | maimodel | output_parser"
      ]
    },
    {
      "cell_type": "code",
      "execution_count": 25,
      "metadata": {},
      "outputs": [],
      "source": [
        "# 6. Invoke the chain for the first transaction:\n",
        "transaction = df.iloc[0][\"Transaction Description\"]"
      ]
    },
    {
      "cell_type": "code",
      "execution_count": 26,
      "metadata": {},
      "outputs": [
        {
          "ename": "OutputParserException",
          "evalue": "Invalid json output: {\n\"transaction\\_type\": \"Deposit\",\n\"transaction\\_category\": \"Other\"\n}",
          "output_type": "error",
          "traceback": [
            "\u001b[0;31m---------------------------------------------------------------------------\u001b[0m",
            "\u001b[0;31mJSONDecodeError\u001b[0m                           Traceback (most recent call last)",
            "File \u001b[0;32m~/Data/Documents/Github/rkaunismaa/Prompt-Engineering-for-Generative-AI/pe4gai/lib/python3.11/site-packages/langchain_core/output_parsers/json.py:66\u001b[0m, in \u001b[0;36mJsonOutputParser.parse_result\u001b[0;34m(self, result, partial)\u001b[0m\n\u001b[1;32m     65\u001b[0m \u001b[38;5;28;01mtry\u001b[39;00m:\n\u001b[0;32m---> 66\u001b[0m     \u001b[38;5;28;01mreturn\u001b[39;00m \u001b[43mparse_json_markdown\u001b[49m\u001b[43m(\u001b[49m\u001b[43mtext\u001b[49m\u001b[43m)\u001b[49m\n\u001b[1;32m     67\u001b[0m \u001b[38;5;28;01mexcept\u001b[39;00m JSONDecodeError \u001b[38;5;28;01mas\u001b[39;00m e:\n",
            "File \u001b[0;32m~/Data/Documents/Github/rkaunismaa/Prompt-Engineering-for-Generative-AI/pe4gai/lib/python3.11/site-packages/langchain_core/utils/json.py:147\u001b[0m, in \u001b[0;36mparse_json_markdown\u001b[0;34m(json_string, parser)\u001b[0m\n\u001b[1;32m    146\u001b[0m         json_str \u001b[38;5;241m=\u001b[39m match\u001b[38;5;241m.\u001b[39mgroup(\u001b[38;5;241m2\u001b[39m)\n\u001b[0;32m--> 147\u001b[0m \u001b[38;5;28;01mreturn\u001b[39;00m \u001b[43m_parse_json\u001b[49m\u001b[43m(\u001b[49m\u001b[43mjson_str\u001b[49m\u001b[43m,\u001b[49m\u001b[43m \u001b[49m\u001b[43mparser\u001b[49m\u001b[38;5;241;43m=\u001b[39;49m\u001b[43mparser\u001b[49m\u001b[43m)\u001b[49m\n",
            "File \u001b[0;32m~/Data/Documents/Github/rkaunismaa/Prompt-Engineering-for-Generative-AI/pe4gai/lib/python3.11/site-packages/langchain_core/utils/json.py:160\u001b[0m, in \u001b[0;36m_parse_json\u001b[0;34m(json_str, parser)\u001b[0m\n\u001b[1;32m    159\u001b[0m \u001b[38;5;66;03m# Parse the JSON string into a Python dictionary\u001b[39;00m\n\u001b[0;32m--> 160\u001b[0m \u001b[38;5;28;01mreturn\u001b[39;00m \u001b[43mparser\u001b[49m\u001b[43m(\u001b[49m\u001b[43mjson_str\u001b[49m\u001b[43m)\u001b[49m\n",
            "File \u001b[0;32m~/Data/Documents/Github/rkaunismaa/Prompt-Engineering-for-Generative-AI/pe4gai/lib/python3.11/site-packages/langchain_core/utils/json.py:120\u001b[0m, in \u001b[0;36mparse_partial_json\u001b[0;34m(s, strict)\u001b[0m\n\u001b[1;32m    117\u001b[0m \u001b[38;5;66;03m# If we got here, we ran out of characters to remove\u001b[39;00m\n\u001b[1;32m    118\u001b[0m \u001b[38;5;66;03m# and still couldn't parse the string as JSON, so return the parse error\u001b[39;00m\n\u001b[1;32m    119\u001b[0m \u001b[38;5;66;03m# for the original string.\u001b[39;00m\n\u001b[0;32m--> 120\u001b[0m \u001b[38;5;28;01mreturn\u001b[39;00m \u001b[43mjson\u001b[49m\u001b[38;5;241;43m.\u001b[39;49m\u001b[43mloads\u001b[49m\u001b[43m(\u001b[49m\u001b[43ms\u001b[49m\u001b[43m,\u001b[49m\u001b[43m \u001b[49m\u001b[43mstrict\u001b[49m\u001b[38;5;241;43m=\u001b[39;49m\u001b[43mstrict\u001b[49m\u001b[43m)\u001b[49m\n",
            "File \u001b[0;32m~/.pyenv/versions/3.11.8/lib/python3.11/json/__init__.py:359\u001b[0m, in \u001b[0;36mloads\u001b[0;34m(s, cls, object_hook, parse_float, parse_int, parse_constant, object_pairs_hook, **kw)\u001b[0m\n\u001b[1;32m    358\u001b[0m     kw[\u001b[38;5;124m'\u001b[39m\u001b[38;5;124mparse_constant\u001b[39m\u001b[38;5;124m'\u001b[39m] \u001b[38;5;241m=\u001b[39m parse_constant\n\u001b[0;32m--> 359\u001b[0m \u001b[38;5;28;01mreturn\u001b[39;00m \u001b[38;5;28;43mcls\u001b[39;49m\u001b[43m(\u001b[49m\u001b[38;5;241;43m*\u001b[39;49m\u001b[38;5;241;43m*\u001b[39;49m\u001b[43mkw\u001b[49m\u001b[43m)\u001b[49m\u001b[38;5;241;43m.\u001b[39;49m\u001b[43mdecode\u001b[49m\u001b[43m(\u001b[49m\u001b[43ms\u001b[49m\u001b[43m)\u001b[49m\n",
            "File \u001b[0;32m~/.pyenv/versions/3.11.8/lib/python3.11/json/decoder.py:337\u001b[0m, in \u001b[0;36mJSONDecoder.decode\u001b[0;34m(self, s, _w)\u001b[0m\n\u001b[1;32m    333\u001b[0m \u001b[38;5;250m\u001b[39m\u001b[38;5;124;03m\"\"\"Return the Python representation of ``s`` (a ``str`` instance\u001b[39;00m\n\u001b[1;32m    334\u001b[0m \u001b[38;5;124;03mcontaining a JSON document).\u001b[39;00m\n\u001b[1;32m    335\u001b[0m \n\u001b[1;32m    336\u001b[0m \u001b[38;5;124;03m\"\"\"\u001b[39;00m\n\u001b[0;32m--> 337\u001b[0m obj, end \u001b[38;5;241m=\u001b[39m \u001b[38;5;28;43mself\u001b[39;49m\u001b[38;5;241;43m.\u001b[39;49m\u001b[43mraw_decode\u001b[49m\u001b[43m(\u001b[49m\u001b[43ms\u001b[49m\u001b[43m,\u001b[49m\u001b[43m \u001b[49m\u001b[43midx\u001b[49m\u001b[38;5;241;43m=\u001b[39;49m\u001b[43m_w\u001b[49m\u001b[43m(\u001b[49m\u001b[43ms\u001b[49m\u001b[43m,\u001b[49m\u001b[43m \u001b[49m\u001b[38;5;241;43m0\u001b[39;49m\u001b[43m)\u001b[49m\u001b[38;5;241;43m.\u001b[39;49m\u001b[43mend\u001b[49m\u001b[43m(\u001b[49m\u001b[43m)\u001b[49m\u001b[43m)\u001b[49m\n\u001b[1;32m    338\u001b[0m end \u001b[38;5;241m=\u001b[39m _w(s, end)\u001b[38;5;241m.\u001b[39mend()\n",
            "File \u001b[0;32m~/.pyenv/versions/3.11.8/lib/python3.11/json/decoder.py:353\u001b[0m, in \u001b[0;36mJSONDecoder.raw_decode\u001b[0;34m(self, s, idx)\u001b[0m\n\u001b[1;32m    352\u001b[0m \u001b[38;5;28;01mtry\u001b[39;00m:\n\u001b[0;32m--> 353\u001b[0m     obj, end \u001b[38;5;241m=\u001b[39m \u001b[38;5;28;43mself\u001b[39;49m\u001b[38;5;241;43m.\u001b[39;49m\u001b[43mscan_once\u001b[49m\u001b[43m(\u001b[49m\u001b[43ms\u001b[49m\u001b[43m,\u001b[49m\u001b[43m \u001b[49m\u001b[43midx\u001b[49m\u001b[43m)\u001b[49m\n\u001b[1;32m    354\u001b[0m \u001b[38;5;28;01mexcept\u001b[39;00m \u001b[38;5;167;01mStopIteration\u001b[39;00m \u001b[38;5;28;01mas\u001b[39;00m err:\n",
            "\u001b[0;31mJSONDecodeError\u001b[0m: Invalid \\escape: line 2 column 13 (char 14)",
            "\nThe above exception was the direct cause of the following exception:\n",
            "\u001b[0;31mOutputParserException\u001b[0m                     Traceback (most recent call last)",
            "Cell \u001b[0;32mIn[26], line 2\u001b[0m\n\u001b[1;32m      1\u001b[0m \u001b[38;5;66;03m# This will often fail because Mistral puts a backslash in the JSON keys ...\u001b[39;00m\n\u001b[0;32m----> 2\u001b[0m result \u001b[38;5;241m=\u001b[39m \u001b[43mchain\u001b[49m\u001b[38;5;241;43m.\u001b[39;49m\u001b[43minvoke\u001b[49m\u001b[43m(\u001b[49m\n\u001b[1;32m      3\u001b[0m \u001b[43m        \u001b[49m\u001b[43m{\u001b[49m\n\u001b[1;32m      4\u001b[0m \u001b[43m            \u001b[49m\u001b[38;5;124;43m\"\u001b[39;49m\u001b[38;5;124;43mtransaction\u001b[39;49m\u001b[38;5;124;43m\"\u001b[39;49m\u001b[43m:\u001b[49m\u001b[43m \u001b[49m\u001b[43mtransaction\u001b[49m\u001b[43m,\u001b[49m\n\u001b[1;32m      5\u001b[0m \u001b[43m            \u001b[49m\u001b[38;5;124;43m\"\u001b[39;49m\u001b[38;5;124;43mformat_instructions\u001b[39;49m\u001b[38;5;124;43m\"\u001b[39;49m\u001b[43m:\u001b[49m\u001b[43m \u001b[49m\u001b[43moutput_parser\u001b[49m\u001b[38;5;241;43m.\u001b[39;49m\u001b[43mget_format_instructions\u001b[49m\u001b[43m(\u001b[49m\u001b[43m)\u001b[49m\u001b[43m,\u001b[49m\n\u001b[1;32m      6\u001b[0m \u001b[43m        \u001b[49m\u001b[43m}\u001b[49m\n\u001b[1;32m      7\u001b[0m \u001b[43m    \u001b[49m\u001b[43m)\u001b[49m\n\u001b[1;32m      8\u001b[0m \u001b[38;5;28mprint\u001b[39m(result) \n\u001b[1;32m      9\u001b[0m \u001b[38;5;66;03m# This will often fail because Mistral puts a backslash in the JSON keys \u001b[39;00m\n\u001b[1;32m     10\u001b[0m \u001b[38;5;66;03m# i.e. \"transaction\\_type\" instead of \"transaction_type\"\u001b[39;00m\n",
            "File \u001b[0;32m~/Data/Documents/Github/rkaunismaa/Prompt-Engineering-for-Generative-AI/pe4gai/lib/python3.11/site-packages/langchain_core/runnables/base.py:2499\u001b[0m, in \u001b[0;36mRunnableSequence.invoke\u001b[0;34m(self, input, config)\u001b[0m\n\u001b[1;32m   2497\u001b[0m \u001b[38;5;28;01mtry\u001b[39;00m:\n\u001b[1;32m   2498\u001b[0m     \u001b[38;5;28;01mfor\u001b[39;00m i, step \u001b[38;5;129;01min\u001b[39;00m \u001b[38;5;28menumerate\u001b[39m(\u001b[38;5;28mself\u001b[39m\u001b[38;5;241m.\u001b[39msteps):\n\u001b[0;32m-> 2499\u001b[0m         \u001b[38;5;28minput\u001b[39m \u001b[38;5;241m=\u001b[39m \u001b[43mstep\u001b[49m\u001b[38;5;241;43m.\u001b[39;49m\u001b[43minvoke\u001b[49m\u001b[43m(\u001b[49m\n\u001b[1;32m   2500\u001b[0m \u001b[43m            \u001b[49m\u001b[38;5;28;43minput\u001b[39;49m\u001b[43m,\u001b[49m\n\u001b[1;32m   2501\u001b[0m \u001b[43m            \u001b[49m\u001b[38;5;66;43;03m# mark each step as a child run\u001b[39;49;00m\n\u001b[1;32m   2502\u001b[0m \u001b[43m            \u001b[49m\u001b[43mpatch_config\u001b[49m\u001b[43m(\u001b[49m\n\u001b[1;32m   2503\u001b[0m \u001b[43m                \u001b[49m\u001b[43mconfig\u001b[49m\u001b[43m,\u001b[49m\u001b[43m \u001b[49m\u001b[43mcallbacks\u001b[49m\u001b[38;5;241;43m=\u001b[39;49m\u001b[43mrun_manager\u001b[49m\u001b[38;5;241;43m.\u001b[39;49m\u001b[43mget_child\u001b[49m\u001b[43m(\u001b[49m\u001b[38;5;124;43mf\u001b[39;49m\u001b[38;5;124;43m\"\u001b[39;49m\u001b[38;5;124;43mseq:step:\u001b[39;49m\u001b[38;5;132;43;01m{\u001b[39;49;00m\u001b[43mi\u001b[49m\u001b[38;5;241;43m+\u001b[39;49m\u001b[38;5;241;43m1\u001b[39;49m\u001b[38;5;132;43;01m}\u001b[39;49;00m\u001b[38;5;124;43m\"\u001b[39;49m\u001b[43m)\u001b[49m\n\u001b[1;32m   2504\u001b[0m \u001b[43m            \u001b[49m\u001b[43m)\u001b[49m\u001b[43m,\u001b[49m\n\u001b[1;32m   2505\u001b[0m \u001b[43m        \u001b[49m\u001b[43m)\u001b[49m\n\u001b[1;32m   2506\u001b[0m \u001b[38;5;66;03m# finish the root run\u001b[39;00m\n\u001b[1;32m   2507\u001b[0m \u001b[38;5;28;01mexcept\u001b[39;00m \u001b[38;5;167;01mBaseException\u001b[39;00m \u001b[38;5;28;01mas\u001b[39;00m e:\n",
            "File \u001b[0;32m~/Data/Documents/Github/rkaunismaa/Prompt-Engineering-for-Generative-AI/pe4gai/lib/python3.11/site-packages/langchain_core/output_parsers/base.py:169\u001b[0m, in \u001b[0;36mBaseOutputParser.invoke\u001b[0;34m(self, input, config)\u001b[0m\n\u001b[1;32m    165\u001b[0m \u001b[38;5;28;01mdef\u001b[39;00m \u001b[38;5;21minvoke\u001b[39m(\n\u001b[1;32m    166\u001b[0m     \u001b[38;5;28mself\u001b[39m, \u001b[38;5;28minput\u001b[39m: Union[\u001b[38;5;28mstr\u001b[39m, BaseMessage], config: Optional[RunnableConfig] \u001b[38;5;241m=\u001b[39m \u001b[38;5;28;01mNone\u001b[39;00m\n\u001b[1;32m    167\u001b[0m ) \u001b[38;5;241m-\u001b[39m\u001b[38;5;241m>\u001b[39m T:\n\u001b[1;32m    168\u001b[0m     \u001b[38;5;28;01mif\u001b[39;00m \u001b[38;5;28misinstance\u001b[39m(\u001b[38;5;28minput\u001b[39m, BaseMessage):\n\u001b[0;32m--> 169\u001b[0m         \u001b[38;5;28;01mreturn\u001b[39;00m \u001b[38;5;28;43mself\u001b[39;49m\u001b[38;5;241;43m.\u001b[39;49m\u001b[43m_call_with_config\u001b[49m\u001b[43m(\u001b[49m\n\u001b[1;32m    170\u001b[0m \u001b[43m            \u001b[49m\u001b[38;5;28;43;01mlambda\u001b[39;49;00m\u001b[43m \u001b[49m\u001b[43minner_input\u001b[49m\u001b[43m:\u001b[49m\u001b[43m \u001b[49m\u001b[38;5;28;43mself\u001b[39;49m\u001b[38;5;241;43m.\u001b[39;49m\u001b[43mparse_result\u001b[49m\u001b[43m(\u001b[49m\n\u001b[1;32m    171\u001b[0m \u001b[43m                \u001b[49m\u001b[43m[\u001b[49m\u001b[43mChatGeneration\u001b[49m\u001b[43m(\u001b[49m\u001b[43mmessage\u001b[49m\u001b[38;5;241;43m=\u001b[39;49m\u001b[43minner_input\u001b[49m\u001b[43m)\u001b[49m\u001b[43m]\u001b[49m\n\u001b[1;32m    172\u001b[0m \u001b[43m            \u001b[49m\u001b[43m)\u001b[49m\u001b[43m,\u001b[49m\n\u001b[1;32m    173\u001b[0m \u001b[43m            \u001b[49m\u001b[38;5;28;43minput\u001b[39;49m\u001b[43m,\u001b[49m\n\u001b[1;32m    174\u001b[0m \u001b[43m            \u001b[49m\u001b[43mconfig\u001b[49m\u001b[43m,\u001b[49m\n\u001b[1;32m    175\u001b[0m \u001b[43m            \u001b[49m\u001b[43mrun_type\u001b[49m\u001b[38;5;241;43m=\u001b[39;49m\u001b[38;5;124;43m\"\u001b[39;49m\u001b[38;5;124;43mparser\u001b[39;49m\u001b[38;5;124;43m\"\u001b[39;49m\u001b[43m,\u001b[49m\n\u001b[1;32m    176\u001b[0m \u001b[43m        \u001b[49m\u001b[43m)\u001b[49m\n\u001b[1;32m    177\u001b[0m     \u001b[38;5;28;01melse\u001b[39;00m:\n\u001b[1;32m    178\u001b[0m         \u001b[38;5;28;01mreturn\u001b[39;00m \u001b[38;5;28mself\u001b[39m\u001b[38;5;241m.\u001b[39m_call_with_config(\n\u001b[1;32m    179\u001b[0m             \u001b[38;5;28;01mlambda\u001b[39;00m inner_input: \u001b[38;5;28mself\u001b[39m\u001b[38;5;241m.\u001b[39mparse_result([Generation(text\u001b[38;5;241m=\u001b[39minner_input)]),\n\u001b[1;32m    180\u001b[0m             \u001b[38;5;28minput\u001b[39m,\n\u001b[1;32m    181\u001b[0m             config,\n\u001b[1;32m    182\u001b[0m             run_type\u001b[38;5;241m=\u001b[39m\u001b[38;5;124m\"\u001b[39m\u001b[38;5;124mparser\u001b[39m\u001b[38;5;124m\"\u001b[39m,\n\u001b[1;32m    183\u001b[0m         )\n",
            "File \u001b[0;32m~/Data/Documents/Github/rkaunismaa/Prompt-Engineering-for-Generative-AI/pe4gai/lib/python3.11/site-packages/langchain_core/runnables/base.py:1625\u001b[0m, in \u001b[0;36mRunnable._call_with_config\u001b[0;34m(self, func, input, config, run_type, **kwargs)\u001b[0m\n\u001b[1;32m   1621\u001b[0m     context \u001b[38;5;241m=\u001b[39m copy_context()\n\u001b[1;32m   1622\u001b[0m     context\u001b[38;5;241m.\u001b[39mrun(var_child_runnable_config\u001b[38;5;241m.\u001b[39mset, child_config)\n\u001b[1;32m   1623\u001b[0m     output \u001b[38;5;241m=\u001b[39m cast(\n\u001b[1;32m   1624\u001b[0m         Output,\n\u001b[0;32m-> 1625\u001b[0m         \u001b[43mcontext\u001b[49m\u001b[38;5;241;43m.\u001b[39;49m\u001b[43mrun\u001b[49m\u001b[43m(\u001b[49m\n\u001b[1;32m   1626\u001b[0m \u001b[43m            \u001b[49m\u001b[43mcall_func_with_variable_args\u001b[49m\u001b[43m,\u001b[49m\u001b[43m  \u001b[49m\u001b[38;5;66;43;03m# type: ignore[arg-type]\u001b[39;49;00m\n\u001b[1;32m   1627\u001b[0m \u001b[43m            \u001b[49m\u001b[43mfunc\u001b[49m\u001b[43m,\u001b[49m\u001b[43m  \u001b[49m\u001b[38;5;66;43;03m# type: ignore[arg-type]\u001b[39;49;00m\n\u001b[1;32m   1628\u001b[0m \u001b[43m            \u001b[49m\u001b[38;5;28;43minput\u001b[39;49m\u001b[43m,\u001b[49m\u001b[43m  \u001b[49m\u001b[38;5;66;43;03m# type: ignore[arg-type]\u001b[39;49;00m\n\u001b[1;32m   1629\u001b[0m \u001b[43m            \u001b[49m\u001b[43mconfig\u001b[49m\u001b[43m,\u001b[49m\n\u001b[1;32m   1630\u001b[0m \u001b[43m            \u001b[49m\u001b[43mrun_manager\u001b[49m\u001b[43m,\u001b[49m\n\u001b[1;32m   1631\u001b[0m \u001b[43m            \u001b[49m\u001b[38;5;241;43m*\u001b[39;49m\u001b[38;5;241;43m*\u001b[39;49m\u001b[43mkwargs\u001b[49m\u001b[43m,\u001b[49m\n\u001b[1;32m   1632\u001b[0m \u001b[43m        \u001b[49m\u001b[43m)\u001b[49m,\n\u001b[1;32m   1633\u001b[0m     )\n\u001b[1;32m   1634\u001b[0m \u001b[38;5;28;01mexcept\u001b[39;00m \u001b[38;5;167;01mBaseException\u001b[39;00m \u001b[38;5;28;01mas\u001b[39;00m e:\n\u001b[1;32m   1635\u001b[0m     run_manager\u001b[38;5;241m.\u001b[39mon_chain_error(e)\n",
            "File \u001b[0;32m~/Data/Documents/Github/rkaunismaa/Prompt-Engineering-for-Generative-AI/pe4gai/lib/python3.11/site-packages/langchain_core/runnables/config.py:347\u001b[0m, in \u001b[0;36mcall_func_with_variable_args\u001b[0;34m(func, input, config, run_manager, **kwargs)\u001b[0m\n\u001b[1;32m    345\u001b[0m \u001b[38;5;28;01mif\u001b[39;00m run_manager \u001b[38;5;129;01mis\u001b[39;00m \u001b[38;5;129;01mnot\u001b[39;00m \u001b[38;5;28;01mNone\u001b[39;00m \u001b[38;5;129;01mand\u001b[39;00m accepts_run_manager(func):\n\u001b[1;32m    346\u001b[0m     kwargs[\u001b[38;5;124m\"\u001b[39m\u001b[38;5;124mrun_manager\u001b[39m\u001b[38;5;124m\"\u001b[39m] \u001b[38;5;241m=\u001b[39m run_manager\n\u001b[0;32m--> 347\u001b[0m \u001b[38;5;28;01mreturn\u001b[39;00m \u001b[43mfunc\u001b[49m\u001b[43m(\u001b[49m\u001b[38;5;28;43minput\u001b[39;49m\u001b[43m,\u001b[49m\u001b[43m \u001b[49m\u001b[38;5;241;43m*\u001b[39;49m\u001b[38;5;241;43m*\u001b[39;49m\u001b[43mkwargs\u001b[49m\u001b[43m)\u001b[49m\n",
            "File \u001b[0;32m~/Data/Documents/Github/rkaunismaa/Prompt-Engineering-for-Generative-AI/pe4gai/lib/python3.11/site-packages/langchain_core/output_parsers/base.py:170\u001b[0m, in \u001b[0;36mBaseOutputParser.invoke.<locals>.<lambda>\u001b[0;34m(inner_input)\u001b[0m\n\u001b[1;32m    165\u001b[0m \u001b[38;5;28;01mdef\u001b[39;00m \u001b[38;5;21minvoke\u001b[39m(\n\u001b[1;32m    166\u001b[0m     \u001b[38;5;28mself\u001b[39m, \u001b[38;5;28minput\u001b[39m: Union[\u001b[38;5;28mstr\u001b[39m, BaseMessage], config: Optional[RunnableConfig] \u001b[38;5;241m=\u001b[39m \u001b[38;5;28;01mNone\u001b[39;00m\n\u001b[1;32m    167\u001b[0m ) \u001b[38;5;241m-\u001b[39m\u001b[38;5;241m>\u001b[39m T:\n\u001b[1;32m    168\u001b[0m     \u001b[38;5;28;01mif\u001b[39;00m \u001b[38;5;28misinstance\u001b[39m(\u001b[38;5;28minput\u001b[39m, BaseMessage):\n\u001b[1;32m    169\u001b[0m         \u001b[38;5;28;01mreturn\u001b[39;00m \u001b[38;5;28mself\u001b[39m\u001b[38;5;241m.\u001b[39m_call_with_config(\n\u001b[0;32m--> 170\u001b[0m             \u001b[38;5;28;01mlambda\u001b[39;00m inner_input: \u001b[38;5;28;43mself\u001b[39;49m\u001b[38;5;241;43m.\u001b[39;49m\u001b[43mparse_result\u001b[49m\u001b[43m(\u001b[49m\n\u001b[1;32m    171\u001b[0m \u001b[43m                \u001b[49m\u001b[43m[\u001b[49m\u001b[43mChatGeneration\u001b[49m\u001b[43m(\u001b[49m\u001b[43mmessage\u001b[49m\u001b[38;5;241;43m=\u001b[39;49m\u001b[43minner_input\u001b[49m\u001b[43m)\u001b[49m\u001b[43m]\u001b[49m\n\u001b[1;32m    172\u001b[0m \u001b[43m            \u001b[49m\u001b[43m)\u001b[49m,\n\u001b[1;32m    173\u001b[0m             \u001b[38;5;28minput\u001b[39m,\n\u001b[1;32m    174\u001b[0m             config,\n\u001b[1;32m    175\u001b[0m             run_type\u001b[38;5;241m=\u001b[39m\u001b[38;5;124m\"\u001b[39m\u001b[38;5;124mparser\u001b[39m\u001b[38;5;124m\"\u001b[39m,\n\u001b[1;32m    176\u001b[0m         )\n\u001b[1;32m    177\u001b[0m     \u001b[38;5;28;01melse\u001b[39;00m:\n\u001b[1;32m    178\u001b[0m         \u001b[38;5;28;01mreturn\u001b[39;00m \u001b[38;5;28mself\u001b[39m\u001b[38;5;241m.\u001b[39m_call_with_config(\n\u001b[1;32m    179\u001b[0m             \u001b[38;5;28;01mlambda\u001b[39;00m inner_input: \u001b[38;5;28mself\u001b[39m\u001b[38;5;241m.\u001b[39mparse_result([Generation(text\u001b[38;5;241m=\u001b[39minner_input)]),\n\u001b[1;32m    180\u001b[0m             \u001b[38;5;28minput\u001b[39m,\n\u001b[1;32m    181\u001b[0m             config,\n\u001b[1;32m    182\u001b[0m             run_type\u001b[38;5;241m=\u001b[39m\u001b[38;5;124m\"\u001b[39m\u001b[38;5;124mparser\u001b[39m\u001b[38;5;124m\"\u001b[39m,\n\u001b[1;32m    183\u001b[0m         )\n",
            "File \u001b[0;32m~/Data/Documents/Github/rkaunismaa/Prompt-Engineering-for-Generative-AI/pe4gai/lib/python3.11/site-packages/langchain_core/output_parsers/pydantic.py:60\u001b[0m, in \u001b[0;36mPydanticOutputParser.parse_result\u001b[0;34m(self, result, partial)\u001b[0m\n\u001b[1;32m     57\u001b[0m \u001b[38;5;28;01mdef\u001b[39;00m \u001b[38;5;21mparse_result\u001b[39m(\n\u001b[1;32m     58\u001b[0m     \u001b[38;5;28mself\u001b[39m, result: List[Generation], \u001b[38;5;241m*\u001b[39m, partial: \u001b[38;5;28mbool\u001b[39m \u001b[38;5;241m=\u001b[39m \u001b[38;5;28;01mFalse\u001b[39;00m\n\u001b[1;32m     59\u001b[0m ) \u001b[38;5;241m-\u001b[39m\u001b[38;5;241m>\u001b[39m TBaseModel:\n\u001b[0;32m---> 60\u001b[0m     json_object \u001b[38;5;241m=\u001b[39m \u001b[38;5;28;43msuper\u001b[39;49m\u001b[43m(\u001b[49m\u001b[43m)\u001b[49m\u001b[38;5;241;43m.\u001b[39;49m\u001b[43mparse_result\u001b[49m\u001b[43m(\u001b[49m\u001b[43mresult\u001b[49m\u001b[43m)\u001b[49m\n\u001b[1;32m     61\u001b[0m     \u001b[38;5;28;01mreturn\u001b[39;00m \u001b[38;5;28mself\u001b[39m\u001b[38;5;241m.\u001b[39m_parse_obj(json_object)\n",
            "File \u001b[0;32m~/Data/Documents/Github/rkaunismaa/Prompt-Engineering-for-Generative-AI/pe4gai/lib/python3.11/site-packages/langchain_core/output_parsers/json.py:69\u001b[0m, in \u001b[0;36mJsonOutputParser.parse_result\u001b[0;34m(self, result, partial)\u001b[0m\n\u001b[1;32m     67\u001b[0m \u001b[38;5;28;01mexcept\u001b[39;00m JSONDecodeError \u001b[38;5;28;01mas\u001b[39;00m e:\n\u001b[1;32m     68\u001b[0m     msg \u001b[38;5;241m=\u001b[39m \u001b[38;5;124mf\u001b[39m\u001b[38;5;124m\"\u001b[39m\u001b[38;5;124mInvalid json output: \u001b[39m\u001b[38;5;132;01m{\u001b[39;00mtext\u001b[38;5;132;01m}\u001b[39;00m\u001b[38;5;124m\"\u001b[39m\n\u001b[0;32m---> 69\u001b[0m     \u001b[38;5;28;01mraise\u001b[39;00m OutputParserException(msg, llm_output\u001b[38;5;241m=\u001b[39mtext) \u001b[38;5;28;01mfrom\u001b[39;00m \u001b[38;5;21;01me\u001b[39;00m\n",
            "\u001b[0;31mOutputParserException\u001b[0m: Invalid json output: {\n\"transaction\\_type\": \"Deposit\",\n\"transaction\\_category\": \"Other\"\n}"
          ]
        }
      ],
      "source": [
        "# This will often fail because Mistral puts a backslash in the JSON keys ...\n",
        "result = chain.invoke(\n",
        "        {\n",
        "            \"transaction\": transaction,\n",
        "            \"format_instructions\": output_parser.get_format_instructions(),\n",
        "        }\n",
        "    )\n",
        "print(result) \n",
        "# This will often fail because Mistral puts a backslash in the JSON keys \n",
        "# i.e. \"transaction\\_type\" instead of \"transaction_type\""
      ]
    },
    {
      "cell_type": "markdown",
      "metadata": {},
      "source": [
        "The above code intentionally fails, so let's fit it."
      ]
    },
    {
      "cell_type": "code",
      "execution_count": 27,
      "metadata": {},
      "outputs": [
        {
          "name": "stdout",
          "output_type": "stream",
          "text": [
            "transaction_type='Deposit' transaction_category='Other'\n"
          ]
        }
      ],
      "source": [
        "from langchain_core.output_parsers import StrOutputParser\n",
        "\n",
        "# 7. Define a function to try to fix and remove the backslashes:\n",
        "def remove_back_slashes(string):\n",
        "    cleaned_string = string.replace(\"\\\\\", \"\") # double slash to escape the slash\n",
        "    return cleaned_string\n",
        "\n",
        "chain = prompt | maimodel | StrOutputParser() | remove_back_slashes | output_parser\n",
        "\n",
        "transaction = df.iloc[0][\"Transaction Description\"]\n",
        "result = chain.invoke(\n",
        "        {\n",
        "            \"transaction\": transaction,\n",
        "            \"format_instructions\": output_parser.get_format_instructions(),\n",
        "        }\n",
        "    )\n",
        "print(result) "
      ]
    },
    {
      "cell_type": "code",
      "execution_count": 28,
      "metadata": {},
      "outputs": [
        {
          "name": "stderr",
          "output_type": "stream",
          "text": [
            "100%|██████████| 20/20 [00:04<00:00,  4.33it/s]\n"
          ]
        }
      ],
      "source": [
        "# 8. Invoke the chain for the whole dataset:\n",
        "results = []\n",
        "\n",
        "for i, row in tqdm(df.iterrows(), total=len(df)):\n",
        "    transaction = row[\"Transaction Description\"]\n",
        "    try:\n",
        "        result = chain.invoke(\n",
        "            {\n",
        "                \"transaction\": transaction,\n",
        "                \"format_instructions\": output_parser.get_format_instructions(),\n",
        "            }\n",
        "        )\n",
        "    except:\n",
        "        result = EnrichedTransactionInformation(\n",
        "            transaction_type=None, transaction_category=None\n",
        "        )\n",
        "        \n",
        "    results.append(result)"
      ]
    },
    {
      "cell_type": "code",
      "execution_count": 29,
      "metadata": {},
      "outputs": [
        {
          "data": {
            "text/html": [
              "<div>\n",
              "<style scoped>\n",
              "    .dataframe tbody tr th:only-of-type {\n",
              "        vertical-align: middle;\n",
              "    }\n",
              "\n",
              "    .dataframe tbody tr th {\n",
              "        vertical-align: top;\n",
              "    }\n",
              "\n",
              "    .dataframe thead th {\n",
              "        text-align: right;\n",
              "    }\n",
              "</style>\n",
              "<table border=\"1\" class=\"dataframe\">\n",
              "  <thead>\n",
              "    <tr style=\"text-align: right;\">\n",
              "      <th></th>\n",
              "      <th>Transaction Description</th>\n",
              "      <th>transaction_type</th>\n",
              "      <th>transaction_category</th>\n",
              "      <th>mistral_transaction_type</th>\n",
              "      <th>mistral_transaction_category</th>\n",
              "    </tr>\n",
              "  </thead>\n",
              "  <tbody>\n",
              "    <tr>\n",
              "      <th>0</th>\n",
              "      <td>cash deposit at local branch</td>\n",
              "      <td>Deposit</td>\n",
              "      <td>Other</td>\n",
              "      <td>Deposit</td>\n",
              "      <td>Other</td>\n",
              "    </tr>\n",
              "    <tr>\n",
              "      <th>1</th>\n",
              "      <td>cash deposit at local branch</td>\n",
              "      <td>Deposit</td>\n",
              "      <td>Other</td>\n",
              "      <td>Deposit</td>\n",
              "      <td>Other</td>\n",
              "    </tr>\n",
              "    <tr>\n",
              "      <th>2</th>\n",
              "      <td>withdrew money for rent payment</td>\n",
              "      <td>Withdrawal</td>\n",
              "      <td>Rent</td>\n",
              "      <td>None</td>\n",
              "      <td>None</td>\n",
              "    </tr>\n",
              "    <tr>\n",
              "      <th>3</th>\n",
              "      <td>withdrew cash for weekend expenses</td>\n",
              "      <td>Withdrawal</td>\n",
              "      <td>Other</td>\n",
              "      <td>None</td>\n",
              "      <td>None</td>\n",
              "    </tr>\n",
              "    <tr>\n",
              "      <th>4</th>\n",
              "      <td>purchased books from the bookstore</td>\n",
              "      <td>Purchase</td>\n",
              "      <td>Other</td>\n",
              "      <td>None</td>\n",
              "      <td>None</td>\n",
              "    </tr>\n",
              "  </tbody>\n",
              "</table>\n",
              "</div>"
            ],
            "text/plain": [
              "              Transaction Description transaction_type transaction_category  \\\n",
              "0        cash deposit at local branch          Deposit                Other   \n",
              "1        cash deposit at local branch          Deposit                Other   \n",
              "2     withdrew money for rent payment       Withdrawal                 Rent   \n",
              "3  withdrew cash for weekend expenses       Withdrawal                Other   \n",
              "4  purchased books from the bookstore         Purchase                Other   \n",
              "\n",
              "  mistral_transaction_type mistral_transaction_category  \n",
              "0                  Deposit                        Other  \n",
              "1                  Deposit                        Other  \n",
              "2                     None                         None  \n",
              "3                     None                         None  \n",
              "4                     None                         None  "
            ]
          },
          "execution_count": 29,
          "metadata": {},
          "output_type": "execute_result"
        }
      ],
      "source": [
        "# 9. Add the results to the dataframe, as columns transaction type and transaction category\n",
        "transaction_types = []\n",
        "transaction_categories = []\n",
        "\n",
        "for result in results:\n",
        "    transaction_types.append(result.transaction_type)\n",
        "    transaction_categories.append(result.transaction_category)\n",
        "\n",
        "df[\"mistral_transaction_type\"] = transaction_types\n",
        "df[\"mistral_transaction_category\"] = transaction_categories\n",
        "df.head()"
      ]
    },
    {
      "cell_type": "code",
      "execution_count": 30,
      "metadata": {},
      "outputs": [
        {
          "name": "stderr",
          "output_type": "stream",
          "text": [
            "100%|██████████| 20/20 [00:00<00:00, 20252.55it/s]\n"
          ]
        }
      ],
      "source": [
        "# 10. Evaluate answers using LangChain evaluators\n",
        "from langchain.evaluation import load_evaluator\n",
        "\n",
        "evaluator = load_evaluator(\"exact_match\")\n",
        "\n",
        "# loop through the dataframe and evaluate the predictions\n",
        "transaction_types = []\n",
        "transaction_categories = []\n",
        "\n",
        "for i, row in tqdm(df.iterrows(), total=len(df)):\n",
        "    transaction_type = row[\"transaction_type\"]\n",
        "    predicted_transaction_type = row[\"mistral_transaction_type\"]\n",
        "    transaction_category = row[\"transaction_category\"]\n",
        "    predicted_transaction_category = row[\"mistral_transaction_category\"]\n",
        "\n",
        "    transaction_type_score = evaluator.evaluate_strings(\n",
        "        prediction=predicted_transaction_type,\n",
        "        reference=transaction_type,\n",
        "    )\n",
        "\n",
        "    transaction_category_score = evaluator.evaluate_strings(\n",
        "        prediction=predicted_transaction_category,\n",
        "        reference=transaction_category,\n",
        "    )\n",
        "\n",
        "    transaction_types.append(transaction_type_score)\n",
        "    transaction_categories.append(transaction_category_score)"
      ]
    },
    {
      "cell_type": "code",
      "execution_count": 31,
      "metadata": {},
      "outputs": [
        {
          "name": "stdout",
          "output_type": "stream",
          "text": [
            "Accuracy score: 0.25\n"
          ]
        }
      ],
      "source": [
        "accuracy_score = 0\n",
        "\n",
        "for transaction_type_score, transaction_category_score in zip(\n",
        "    transaction_types, transaction_categories\n",
        "):\n",
        "    accuracy_score += transaction_type_score['score'] + transaction_category_score['score']\n",
        "\n",
        "accuracy_score = accuracy_score / (len(transaction_types) * 2)\n",
        "print(f\"Accuracy score: {accuracy_score}\")"
      ]
    },
    {
      "cell_type": "markdown",
      "metadata": {},
      "source": [
        "## Compare Mistral API with GPT-3.5 API:"
      ]
    },
    {
      "cell_type": "code",
      "execution_count": 32,
      "metadata": {},
      "outputs": [
        {
          "name": "stdout",
          "output_type": "stream",
          "text": [
            "transaction_type='Deposit' transaction_category='Other'\n"
          ]
        }
      ],
      "source": [
        "from langchain_openai.chat_models import ChatOpenAI\n",
        "\n",
        "# 1. Define the model:\n",
        "# model = ChatOpenAI(\n",
        "#     model=\"gpt-3.5-turbo-1106\",\n",
        "#     model_kwargs={\"response_format\": {\"type\": \"json_object\"}},\n",
        "# )\n",
        "\n",
        "# chain = prompt | model | output_parser\n",
        "chain = prompt | lmchat | output_parser\n",
        "\n",
        "# 2. Invoke the chain for the first transaction:\n",
        "transaction = df.iloc[0][\"Transaction Description\"]\n",
        "result = chain.invoke(\n",
        "        {\n",
        "            \"transaction\": transaction,\n",
        "            \"format_instructions\": output_parser.get_format_instructions(),\n",
        "        }\n",
        "    )\n",
        "print(result)"
      ]
    },
    {
      "cell_type": "code",
      "execution_count": 33,
      "metadata": {},
      "outputs": [
        {
          "name": "stderr",
          "output_type": "stream",
          "text": [
            "100%|██████████| 20/20 [00:59<00:00,  2.99s/it]\n"
          ]
        }
      ],
      "source": [
        "# 3. Invoke the chain for the whole dataset:\n",
        "results = []\n",
        "\n",
        "for i, row in tqdm(df.iterrows(), total=len(df)):\n",
        "    transaction = row[\"Transaction Description\"]\n",
        "    try:\n",
        "        result = chain.invoke(\n",
        "            {\n",
        "                \"transaction\": transaction,\n",
        "                \"format_instructions\": output_parser.get_format_instructions(),\n",
        "            }\n",
        "        )\n",
        "    except:\n",
        "        result = EnrichedTransactionInformation(\n",
        "            transaction_type=None, transaction_category=None\n",
        "        )\n",
        "    \n",
        "    results.append(result)"
      ]
    },
    {
      "cell_type": "code",
      "execution_count": 34,
      "metadata": {},
      "outputs": [
        {
          "data": {
            "text/html": [
              "<div>\n",
              "<style scoped>\n",
              "    .dataframe tbody tr th:only-of-type {\n",
              "        vertical-align: middle;\n",
              "    }\n",
              "\n",
              "    .dataframe tbody tr th {\n",
              "        vertical-align: top;\n",
              "    }\n",
              "\n",
              "    .dataframe thead th {\n",
              "        text-align: right;\n",
              "    }\n",
              "</style>\n",
              "<table border=\"1\" class=\"dataframe\">\n",
              "  <thead>\n",
              "    <tr style=\"text-align: right;\">\n",
              "      <th></th>\n",
              "      <th>Transaction Description</th>\n",
              "      <th>transaction_type</th>\n",
              "      <th>transaction_category</th>\n",
              "      <th>mistral_transaction_type</th>\n",
              "      <th>mistral_transaction_category</th>\n",
              "      <th>gpt3.5_transaction_type</th>\n",
              "      <th>gpt3.5_transaction_category</th>\n",
              "    </tr>\n",
              "  </thead>\n",
              "  <tbody>\n",
              "    <tr>\n",
              "      <th>0</th>\n",
              "      <td>cash deposit at local branch</td>\n",
              "      <td>Deposit</td>\n",
              "      <td>Other</td>\n",
              "      <td>Deposit</td>\n",
              "      <td>Other</td>\n",
              "      <td>Deposit</td>\n",
              "      <td>Other</td>\n",
              "    </tr>\n",
              "    <tr>\n",
              "      <th>1</th>\n",
              "      <td>cash deposit at local branch</td>\n",
              "      <td>Deposit</td>\n",
              "      <td>Other</td>\n",
              "      <td>Deposit</td>\n",
              "      <td>Other</td>\n",
              "      <td>Deposit</td>\n",
              "      <td>Other</td>\n",
              "    </tr>\n",
              "    <tr>\n",
              "      <th>2</th>\n",
              "      <td>withdrew money for rent payment</td>\n",
              "      <td>Withdrawal</td>\n",
              "      <td>Rent</td>\n",
              "      <td>None</td>\n",
              "      <td>None</td>\n",
              "      <td>Withdrawal</td>\n",
              "      <td>Rent</td>\n",
              "    </tr>\n",
              "    <tr>\n",
              "      <th>3</th>\n",
              "      <td>withdrew cash for weekend expenses</td>\n",
              "      <td>Withdrawal</td>\n",
              "      <td>Other</td>\n",
              "      <td>None</td>\n",
              "      <td>None</td>\n",
              "      <td>Withdrawal</td>\n",
              "      <td>Other</td>\n",
              "    </tr>\n",
              "    <tr>\n",
              "      <th>4</th>\n",
              "      <td>purchased books from the bookstore</td>\n",
              "      <td>Purchase</td>\n",
              "      <td>Other</td>\n",
              "      <td>None</td>\n",
              "      <td>None</td>\n",
              "      <td>Purchase</td>\n",
              "      <td>Other</td>\n",
              "    </tr>\n",
              "    <tr>\n",
              "      <th>5</th>\n",
              "      <td>tax refund deposit</td>\n",
              "      <td>Deposit</td>\n",
              "      <td>Other</td>\n",
              "      <td>None</td>\n",
              "      <td>None</td>\n",
              "      <td>Deposit</td>\n",
              "      <td>Other</td>\n",
              "    </tr>\n",
              "    <tr>\n",
              "      <th>6</th>\n",
              "      <td>refund from clothing store</td>\n",
              "      <td>Refund</td>\n",
              "      <td>Other</td>\n",
              "      <td>None</td>\n",
              "      <td>None</td>\n",
              "      <td>Refund</td>\n",
              "      <td>Other</td>\n",
              "    </tr>\n",
              "    <tr>\n",
              "      <th>7</th>\n",
              "      <td>withdrew money for rent payment</td>\n",
              "      <td>Withdrawal</td>\n",
              "      <td>Rent</td>\n",
              "      <td>None</td>\n",
              "      <td>None</td>\n",
              "      <td>Withdrawal</td>\n",
              "      <td>Rent</td>\n",
              "    </tr>\n",
              "    <tr>\n",
              "      <th>8</th>\n",
              "      <td>insurance claim refund</td>\n",
              "      <td>Refund</td>\n",
              "      <td>Other</td>\n",
              "      <td>None</td>\n",
              "      <td>None</td>\n",
              "      <td>Refund</td>\n",
              "      <td>Other</td>\n",
              "    </tr>\n",
              "    <tr>\n",
              "      <th>9</th>\n",
              "      <td>paid subscription service fee</td>\n",
              "      <td>Bill Payment</td>\n",
              "      <td>Other</td>\n",
              "      <td>None</td>\n",
              "      <td>None</td>\n",
              "      <td>Bill Payment</td>\n",
              "      <td>Utilities</td>\n",
              "    </tr>\n",
              "    <tr>\n",
              "      <th>10</th>\n",
              "      <td>purchased groceries at the local market</td>\n",
              "      <td>Purchase</td>\n",
              "      <td>Food</td>\n",
              "      <td>Purchase</td>\n",
              "      <td>Food</td>\n",
              "      <td>Purchase</td>\n",
              "      <td>Food</td>\n",
              "    </tr>\n",
              "    <tr>\n",
              "      <th>11</th>\n",
              "      <td>refund for returned electronics</td>\n",
              "      <td>Refund</td>\n",
              "      <td>Other</td>\n",
              "      <td>Refund</td>\n",
              "      <td>Other</td>\n",
              "      <td>Refund</td>\n",
              "      <td>Other</td>\n",
              "    </tr>\n",
              "    <tr>\n",
              "      <th>12</th>\n",
              "      <td>withdrew money for rent payment</td>\n",
              "      <td>Withdrawal</td>\n",
              "      <td>Rent</td>\n",
              "      <td>Withdrawal</td>\n",
              "      <td>Rent</td>\n",
              "      <td>Withdrawal</td>\n",
              "      <td>Rent</td>\n",
              "    </tr>\n",
              "    <tr>\n",
              "      <th>13</th>\n",
              "      <td>deposited gift money</td>\n",
              "      <td>Deposit</td>\n",
              "      <td>Other</td>\n",
              "      <td>None</td>\n",
              "      <td>None</td>\n",
              "      <td>Deposit</td>\n",
              "      <td>Other</td>\n",
              "    </tr>\n",
              "    <tr>\n",
              "      <th>14</th>\n",
              "      <td>paid for streaming service</td>\n",
              "      <td>Bill Payment</td>\n",
              "      <td>Entertainment</td>\n",
              "      <td>None</td>\n",
              "      <td>None</td>\n",
              "      <td>Bill Payment</td>\n",
              "      <td>Entertainment</td>\n",
              "    </tr>\n",
              "    <tr>\n",
              "      <th>15</th>\n",
              "      <td>bought a watch from the jewelry store</td>\n",
              "      <td>Purchase</td>\n",
              "      <td>Other</td>\n",
              "      <td>None</td>\n",
              "      <td>None</td>\n",
              "      <td>Purchase</td>\n",
              "      <td>Other</td>\n",
              "    </tr>\n",
              "    <tr>\n",
              "      <th>16</th>\n",
              "      <td>utility bill payment for electricity</td>\n",
              "      <td>Bill Payment</td>\n",
              "      <td>Utilities</td>\n",
              "      <td>None</td>\n",
              "      <td>None</td>\n",
              "      <td>Bill Payment</td>\n",
              "      <td>Utilities</td>\n",
              "    </tr>\n",
              "    <tr>\n",
              "      <th>17</th>\n",
              "      <td>withdrew cash for weekend expenses</td>\n",
              "      <td>Withdrawal</td>\n",
              "      <td>Other</td>\n",
              "      <td>None</td>\n",
              "      <td>None</td>\n",
              "      <td>Withdrawal</td>\n",
              "      <td>Other</td>\n",
              "    </tr>\n",
              "    <tr>\n",
              "      <th>18</th>\n",
              "      <td>withdrew cash for weekend expenses</td>\n",
              "      <td>Withdrawal</td>\n",
              "      <td>Other</td>\n",
              "      <td>None</td>\n",
              "      <td>None</td>\n",
              "      <td>Withdrawal</td>\n",
              "      <td>Other</td>\n",
              "    </tr>\n",
              "    <tr>\n",
              "      <th>19</th>\n",
              "      <td>bought a new smartphone from the electronics s...</td>\n",
              "      <td>Purchase</td>\n",
              "      <td>Other</td>\n",
              "      <td>None</td>\n",
              "      <td>None</td>\n",
              "      <td>Purchase</td>\n",
              "      <td>Other</td>\n",
              "    </tr>\n",
              "  </tbody>\n",
              "</table>\n",
              "</div>"
            ],
            "text/plain": [
              "                              Transaction Description transaction_type  \\\n",
              "0                        cash deposit at local branch          Deposit   \n",
              "1                        cash deposit at local branch          Deposit   \n",
              "2                     withdrew money for rent payment       Withdrawal   \n",
              "3                  withdrew cash for weekend expenses       Withdrawal   \n",
              "4                  purchased books from the bookstore         Purchase   \n",
              "5                                  tax refund deposit          Deposit   \n",
              "6                          refund from clothing store           Refund   \n",
              "7                     withdrew money for rent payment       Withdrawal   \n",
              "8                              insurance claim refund           Refund   \n",
              "9                       paid subscription service fee     Bill Payment   \n",
              "10            purchased groceries at the local market         Purchase   \n",
              "11                    refund for returned electronics           Refund   \n",
              "12                    withdrew money for rent payment       Withdrawal   \n",
              "13                               deposited gift money          Deposit   \n",
              "14                         paid for streaming service     Bill Payment   \n",
              "15              bought a watch from the jewelry store         Purchase   \n",
              "16               utility bill payment for electricity     Bill Payment   \n",
              "17                 withdrew cash for weekend expenses       Withdrawal   \n",
              "18                 withdrew cash for weekend expenses       Withdrawal   \n",
              "19  bought a new smartphone from the electronics s...         Purchase   \n",
              "\n",
              "   transaction_category mistral_transaction_type mistral_transaction_category  \\\n",
              "0                 Other                  Deposit                        Other   \n",
              "1                 Other                  Deposit                        Other   \n",
              "2                  Rent                     None                         None   \n",
              "3                 Other                     None                         None   \n",
              "4                 Other                     None                         None   \n",
              "5                 Other                     None                         None   \n",
              "6                 Other                     None                         None   \n",
              "7                  Rent                     None                         None   \n",
              "8                 Other                     None                         None   \n",
              "9                 Other                     None                         None   \n",
              "10                 Food                 Purchase                         Food   \n",
              "11                Other                   Refund                        Other   \n",
              "12                 Rent               Withdrawal                         Rent   \n",
              "13                Other                     None                         None   \n",
              "14        Entertainment                     None                         None   \n",
              "15                Other                     None                         None   \n",
              "16            Utilities                     None                         None   \n",
              "17                Other                     None                         None   \n",
              "18                Other                     None                         None   \n",
              "19                Other                     None                         None   \n",
              "\n",
              "   gpt3.5_transaction_type gpt3.5_transaction_category  \n",
              "0                  Deposit                       Other  \n",
              "1                  Deposit                       Other  \n",
              "2               Withdrawal                        Rent  \n",
              "3               Withdrawal                       Other  \n",
              "4                 Purchase                       Other  \n",
              "5                  Deposit                       Other  \n",
              "6                   Refund                       Other  \n",
              "7               Withdrawal                        Rent  \n",
              "8                   Refund                       Other  \n",
              "9             Bill Payment                   Utilities  \n",
              "10                Purchase                        Food  \n",
              "11                  Refund                       Other  \n",
              "12              Withdrawal                        Rent  \n",
              "13                 Deposit                       Other  \n",
              "14            Bill Payment               Entertainment  \n",
              "15                Purchase                       Other  \n",
              "16            Bill Payment                   Utilities  \n",
              "17              Withdrawal                       Other  \n",
              "18              Withdrawal                       Other  \n",
              "19                Purchase                       Other  "
            ]
          },
          "execution_count": 34,
          "metadata": {},
          "output_type": "execute_result"
        }
      ],
      "source": [
        "# 4. Add the results to the dataframe, as columns transaction type and transaction category\n",
        "transaction_types = []\n",
        "transaction_categories = []\n",
        "\n",
        "for result in results:\n",
        "    transaction_types.append(result.transaction_type)\n",
        "    transaction_categories.append(result.transaction_category)\n",
        "\n",
        "df[\"gpt3.5_transaction_type\"] = transaction_types\n",
        "df[\"gpt3.5_transaction_category\"] = transaction_categories\n",
        "\n",
        "df.head(20)"
      ]
    },
    {
      "cell_type": "code",
      "execution_count": 35,
      "metadata": {},
      "outputs": [
        {
          "name": "stderr",
          "output_type": "stream",
          "text": [
            "100%|██████████| 20/20 [00:00<00:00, 7264.75it/s]"
          ]
        },
        {
          "name": "stdout",
          "output_type": "stream",
          "text": [
            "Accuracy score: 0.975\n"
          ]
        },
        {
          "name": "stderr",
          "output_type": "stream",
          "text": [
            "\n"
          ]
        }
      ],
      "source": [
        "# Loop through the dataframe and evaluate the predictions\n",
        "transaction_types = []\n",
        "transaction_categories = []\n",
        "\n",
        "for i, row in tqdm(df.iterrows(), total=len(df)):\n",
        "    transaction_type = row[\"transaction_type\"]\n",
        "    predicted_transaction_type = row[\"gpt3.5_transaction_type\"]\n",
        "    transaction_category = row[\"transaction_category\"]\n",
        "    predicted_transaction_category = row[\"gpt3.5_transaction_category\"]\n",
        "\n",
        "    transaction_type_score = evaluator.evaluate_strings(\n",
        "        prediction=predicted_transaction_type,\n",
        "        reference=transaction_type,\n",
        "    )\n",
        "\n",
        "    transaction_category_score = evaluator.evaluate_strings(\n",
        "        prediction=predicted_transaction_category,\n",
        "        reference=transaction_category,\n",
        "    )\n",
        "\n",
        "    transaction_types.append(transaction_type_score)\n",
        "    transaction_categories.append(transaction_category_score)\n",
        "\n",
        "accuracy_score = 0\n",
        "\n",
        "for transaction_type_score, transaction_category_score in zip(\n",
        "    transaction_types, transaction_categories\n",
        "):\n",
        "    accuracy_score += transaction_type_score['score'] + transaction_category_score['score']\n",
        "\n",
        "accuracy_score = accuracy_score / (len(transaction_types) * 2)\n",
        "print(f\"Accuracy score: {accuracy_score}\")"
      ]
    },
    {
      "cell_type": "code",
      "execution_count": 44,
      "metadata": {},
      "outputs": [],
      "source": [
        "# Pairwise comparison between GPT-4 and Mistral\n",
        "from langchain.evaluation import load_evaluator\n",
        "evaluator = load_evaluator(\"labeled_pairwise_string\")"
      ]
    },
    {
      "cell_type": "code",
      "execution_count": 45,
      "metadata": {},
      "outputs": [
        {
          "data": {
            "text/plain": [
              "ChatOpenAI(client=<openai.resources.chat.completions.Completions object at 0x7a654bfa1790>, async_client=<openai.resources.chat.completions.AsyncCompletions object at 0x7a654a143e50>, model_name='gpt-4', temperature=0.0, model_kwargs={'seed': 42}, openai_api_key='Nope!', openai_proxy='')"
            ]
          },
          "execution_count": 45,
          "metadata": {},
          "output_type": "execute_result"
        }
      ],
      "source": [
        "evaluator.llm"
      ]
    },
    {
      "cell_type": "code",
      "execution_count": 47,
      "metadata": {},
      "outputs": [
        {
          "data": {
            "text/plain": [
              "ChatOpenAI(client=<openai.resources.chat.completions.Completions object at 0x7a655330ce50>, async_client=<openai.resources.chat.completions.AsyncCompletions object at 0x7a65533108d0>, model_name='qwen2.5-14b-instruct@q8_0', openai_api_key=SecretStr('**********'), openai_api_base='http://localhost:1234/v1', openai_proxy='')"
            ]
          },
          "execution_count": 47,
          "metadata": {},
          "output_type": "execute_result"
        }
      ],
      "source": [
        "# if you do not do this, then the evaluator will use OpenAI\n",
        "evaluator.llm = lmchat\n",
        "evaluator.llm"
      ]
    },
    {
      "cell_type": "code",
      "execution_count": 41,
      "metadata": {},
      "outputs": [],
      "source": [
        "row = df.iloc[0]\n",
        "transaction = row[\"Transaction Description\"]\n",
        "\n",
        "gpt3pt5_category = row[\"gpt3.5_transaction_category\"]\n",
        "gpt3pt5_type = row[\"gpt3.5_transaction_type\"]\n",
        "\n",
        "mistral_category = row[\"mistral_transaction_category\"]\n",
        "mistral_type = row[\"mistral_transaction_type\"]\n",
        "\n",
        "reference_category = row[\"transaction_category\"]\n",
        "reference_type = row[\"transaction_type\"]\n",
        "\n",
        "# put the data into JSON format for the evaluator\n",
        "gpt3pt5_data = f\"\"\"{{\n",
        "    \"transaction_category\": \"{gpt3pt5_category}\",\n",
        "    \"transaction_type\": \"{gpt3pt5_type}\"\n",
        "}}\"\"\"\n",
        "\n",
        "mistral_data = f\"\"\"{{\n",
        "    \"transaction_category\": \"{mistral_category}\",\n",
        "    \"transaction_type\": \"{mistral_type}\"\n",
        "}}\"\"\"\n",
        "\n",
        "reference_data = f\"\"\"{{\n",
        "    \"transaction_category\": \"{reference_category}\",\n",
        "    \"transaction_type\": \"{reference_type}\"\n",
        "}}\"\"\"\n",
        "\n",
        "# set up the prompt input for context for the evaluator\n",
        "input_prompt = \"\"\"You are are an expert at analyzing bank transactions, \n",
        "you will be categorising a single transaction. \n",
        "Always return a transaction type and category: do not return None.\n",
        "Format Instructions:\n",
        "{format_instructions}\n",
        "Transaction Text:\n",
        "{transaction}\n",
        "\"\"\""
      ]
    },
    {
      "cell_type": "code",
      "execution_count": 42,
      "metadata": {},
      "outputs": [
        {
          "data": {
            "text/plain": [
              "{'reasoning': \"Both Assistant A and Assistant B have provided identical responses that conform to the user's formatting instructions and accurately categorize the given transaction as a deposit under the category 'Other'. The response is both helpful in its clarity and relevance, directly addressing the question with no deviation. Since the criteria of correctness and depth are met equally well by both assistants, there is no discernible difference between their performance based on the provided guidelines.\\n\\n[[C]]\",\n",
              " 'value': None,\n",
              " 'score': 0.5}"
            ]
          },
          "execution_count": 42,
          "metadata": {},
          "output_type": "execute_result"
        }
      ],
      "source": [
        "evaluator.evaluate_string_pairs(\n",
        "    prediction=gpt3pt5_data,\n",
        "    prediction_b=mistral_data,\n",
        "    input=input_prompt.format(\n",
        "        format_instructions=output_parser.get_format_instructions(),\n",
        "        transaction=transaction),\n",
        "    reference=reference_data,\n",
        ")"
      ]
    },
    {
      "cell_type": "code",
      "execution_count": 48,
      "metadata": {},
      "outputs": [
        {
          "name": "stderr",
          "output_type": "stream",
          "text": [
            "100%|██████████| 20/20 [11:50<00:00, 35.54s/it]\n"
          ]
        },
        {
          "data": {
            "text/html": [
              "<div>\n",
              "<style scoped>\n",
              "    .dataframe tbody tr th:only-of-type {\n",
              "        vertical-align: middle;\n",
              "    }\n",
              "\n",
              "    .dataframe tbody tr th {\n",
              "        vertical-align: top;\n",
              "    }\n",
              "\n",
              "    .dataframe thead th {\n",
              "        text-align: right;\n",
              "    }\n",
              "</style>\n",
              "<table border=\"1\" class=\"dataframe\">\n",
              "  <thead>\n",
              "    <tr style=\"text-align: right;\">\n",
              "      <th></th>\n",
              "      <th>Transaction Description</th>\n",
              "      <th>transaction_type</th>\n",
              "      <th>transaction_category</th>\n",
              "      <th>mistral_transaction_type</th>\n",
              "      <th>mistral_transaction_category</th>\n",
              "      <th>gpt3.5_transaction_type</th>\n",
              "      <th>gpt3.5_transaction_category</th>\n",
              "      <th>pairwise_reasoning</th>\n",
              "      <th>pairwise_score</th>\n",
              "    </tr>\n",
              "  </thead>\n",
              "  <tbody>\n",
              "    <tr>\n",
              "      <th>0</th>\n",
              "      <td>cash deposit at local branch</td>\n",
              "      <td>Deposit</td>\n",
              "      <td>Other</td>\n",
              "      <td>Deposit</td>\n",
              "      <td>Other</td>\n",
              "      <td>Deposit</td>\n",
              "      <td>Other</td>\n",
              "      <td>Assistant A and Assistant B provided identical...</td>\n",
              "      <td>0.5</td>\n",
              "    </tr>\n",
              "    <tr>\n",
              "      <th>1</th>\n",
              "      <td>cash deposit at local branch</td>\n",
              "      <td>Deposit</td>\n",
              "      <td>Other</td>\n",
              "      <td>Deposit</td>\n",
              "      <td>Other</td>\n",
              "      <td>Deposit</td>\n",
              "      <td>Other</td>\n",
              "      <td>Both Assistant A and Assistant B provided iden...</td>\n",
              "      <td>0.5</td>\n",
              "    </tr>\n",
              "    <tr>\n",
              "      <th>2</th>\n",
              "      <td>withdrew money for rent payment</td>\n",
              "      <td>Withdrawal</td>\n",
              "      <td>Rent</td>\n",
              "      <td>None</td>\n",
              "      <td>None</td>\n",
              "      <td>Withdrawal</td>\n",
              "      <td>Rent</td>\n",
              "      <td>Assistant A provides a response that adheres t...</td>\n",
              "      <td>1.0</td>\n",
              "    </tr>\n",
              "    <tr>\n",
              "      <th>3</th>\n",
              "      <td>withdrew cash for weekend expenses</td>\n",
              "      <td>Withdrawal</td>\n",
              "      <td>Other</td>\n",
              "      <td>None</td>\n",
              "      <td>None</td>\n",
              "      <td>Withdrawal</td>\n",
              "      <td>Other</td>\n",
              "      <td>Assistant A's response adheres to the user's i...</td>\n",
              "      <td>1.0</td>\n",
              "    </tr>\n",
              "    <tr>\n",
              "      <th>4</th>\n",
              "      <td>purchased books from the bookstore</td>\n",
              "      <td>Purchase</td>\n",
              "      <td>Other</td>\n",
              "      <td>None</td>\n",
              "      <td>None</td>\n",
              "      <td>Purchase</td>\n",
              "      <td>Other</td>\n",
              "      <td>Assistant A provides a relevant and accurate r...</td>\n",
              "      <td>1.0</td>\n",
              "    </tr>\n",
              "  </tbody>\n",
              "</table>\n",
              "</div>"
            ],
            "text/plain": [
              "              Transaction Description transaction_type transaction_category  \\\n",
              "0        cash deposit at local branch          Deposit                Other   \n",
              "1        cash deposit at local branch          Deposit                Other   \n",
              "2     withdrew money for rent payment       Withdrawal                 Rent   \n",
              "3  withdrew cash for weekend expenses       Withdrawal                Other   \n",
              "4  purchased books from the bookstore         Purchase                Other   \n",
              "\n",
              "  mistral_transaction_type mistral_transaction_category  \\\n",
              "0                  Deposit                        Other   \n",
              "1                  Deposit                        Other   \n",
              "2                     None                         None   \n",
              "3                     None                         None   \n",
              "4                     None                         None   \n",
              "\n",
              "  gpt3.5_transaction_type gpt3.5_transaction_category  \\\n",
              "0                 Deposit                       Other   \n",
              "1                 Deposit                       Other   \n",
              "2              Withdrawal                        Rent   \n",
              "3              Withdrawal                       Other   \n",
              "4                Purchase                       Other   \n",
              "\n",
              "                                  pairwise_reasoning  pairwise_score  \n",
              "0  Assistant A and Assistant B provided identical...             0.5  \n",
              "1  Both Assistant A and Assistant B provided iden...             0.5  \n",
              "2  Assistant A provides a response that adheres t...             1.0  \n",
              "3  Assistant A's response adheres to the user's i...             1.0  \n",
              "4  Assistant A provides a relevant and accurate r...             1.0  "
            ]
          },
          "execution_count": 48,
          "metadata": {},
          "output_type": "execute_result"
        }
      ],
      "source": [
        "# Run through the whole dataset and add the pairwise comparison scores to the dataframe:\n",
        "pairwise_scores = []\n",
        "\n",
        "for i, row in tqdm(df.iterrows(), total=len(df)):\n",
        "    transaction = row[\"Transaction Description\"]\n",
        "    gpt3pt5_category = row[\"gpt3.5_transaction_category\"]\n",
        "    gpt3pt5_type = row[\"gpt3.5_transaction_type\"]\n",
        "    mistral_category = row[\"mistral_transaction_category\"]\n",
        "    mistral_type = row[\"mistral_transaction_type\"]\n",
        "    reference_category = row[\"transaction_category\"]\n",
        "    reference_type = row[\"transaction_type\"]\n",
        "\n",
        "    # put the data into JSON format for the evaluator\n",
        "    gpt3pt5_data = f\"\"\"{{\n",
        "        \"transaction_category\": \"{gpt3pt5_category}\",\n",
        "        \"transaction_type\": \"{gpt3pt5_type}\"\n",
        "    }}\"\"\"\n",
        "\n",
        "    mistral_data = f\"\"\"{{\n",
        "        \"transaction_category\": \"{mistral_category}\",\n",
        "        \"transaction_type\": \"{mistral_type}\"\n",
        "    }}\"\"\"\n",
        "\n",
        "    reference_data = f\"\"\"{{\n",
        "        \"transaction_category\": \"{reference_category}\",\n",
        "        \"transaction_type\": \"{reference_type}\"\n",
        "    }}\"\"\"\n",
        "\n",
        "    # set up the prompt input for context for the evaluator\n",
        "    input_prompt = \"\"\"You are are an expert at analyzing bank transactions, \n",
        "    you will be categorising a single transaction. \n",
        "    Always return a transaction type and category: do not return None.\n",
        "    Format Instructions:\n",
        "    {format_instructions}\n",
        "    Transaction Text:\n",
        "    {transaction}\n",
        "    \"\"\"\n",
        "\n",
        "    pairwise = evaluator.evaluate_string_pairs(\n",
        "        prediction=gpt3pt5_data,\n",
        "        prediction_b=mistral_data,\n",
        "        input=input_prompt.format(\n",
        "            format_instructions=output_parser.get_format_instructions(),\n",
        "            transaction=transaction),\n",
        "        reference=reference_data,\n",
        "    )\n",
        "    pairwise_scores.append(pairwise)\n",
        "\n",
        "# Add the pairwise scores to the dataframe:\n",
        "reasoning = []\n",
        "scores = []\n",
        "\n",
        "for score in pairwise_scores:\n",
        "    reasoning.append(score['reasoning'])\n",
        "    scores.append(score['score'])\n",
        "\n",
        "df['pairwise_reasoning'] = reasoning\n",
        "df['pairwise_score'] = scores\n",
        "\n",
        "df.head()\n",
        "    \n",
        "# 11m 50.8s"
      ]
    },
    {
      "cell_type": "code",
      "execution_count": 49,
      "metadata": {},
      "outputs": [
        {
          "name": "stdout",
          "output_type": "stream",
          "text": [
            "Transaction:  withdrew cash for weekend expenses\n",
            "\n",
            "Reference: Withdrawal Other\n",
            "GPT-3.5 (A): Withdrawal Other\n",
            "Mistral (B): None None\n",
            "\n",
            "Assistant A's response adheres to the user's instruction and provided schema perfectly. They have specified both a transaction type (\"Withdrawal\") and a category (\"Other\"), which is appropriate for this transaction text that indicates cash withdrawal without specifying any particular use that would fit into one of the more specific categories.\n",
            "\n",
            "Assistant B, however, did not follow the instructions correctly since they returned \"None\" values for both fields despite being instructed to avoid returning None. Also, it does not conform to the schema given which requires at least one value from each field's possible options and specifically mentions that none should be returned as per the user instruction.\n",
            "\n",
            "Based on this analysis:\n",
            "\n",
            "- **Helpfulness**: Assistant A provides a helpful response by giving meaningful transaction type and category based on the text.\n",
            "- **Relevance**: The answer of Assistant A is relevant to the user question and example, whereas Assistant B's response does not meet the requirements of the task at hand.\n",
            "- **Correctness**: Assistant A's submission is correct in adhering to the schema and instructions. Assistant B's submission is incorrect as it violates the given rules by returning \"None\".\n",
            "- **Depth**: Both assistants provide straightforward responses that do not require significant depth, but since the instruction asks for an appropriate response within a defined set of options without elaboration, Assistant A's adherence to these requirements demonstrates more relevant depth.\n",
            "\n",
            "Thus, considering all criteria and the specific user instructions, Assistant A provides a better answer than Assistant B. \n",
            "\n",
            "[[A]]\n"
          ]
        }
      ],
      "source": [
        "row = df.iloc[3]\n",
        "print(\"Transaction: \", row['Transaction Description'])\n",
        "print()\n",
        "print(\"Reference:\", row['transaction_type'], row['transaction_category'])\n",
        "print(\"GPT-3.5 (A):\", row['gpt3.5_transaction_type'], row['gpt3.5_transaction_category'])\n",
        "print(\"Mistral (B):\", row['mistral_transaction_type'], row['mistral_transaction_category'])\n",
        "\n",
        "print()\n",
        "print(row['pairwise_reasoning'])"
      ]
    }
  ],
  "metadata": {
    "kernelspec": {
      "display_name": "pe4gai",
      "language": "python",
      "name": "python3"
    },
    "language_info": {
      "codemirror_mode": {
        "name": "ipython",
        "version": 3
      },
      "file_extension": ".py",
      "mimetype": "text/x-python",
      "name": "python",
      "nbconvert_exporter": "python",
      "pygments_lexer": "ipython3",
      "version": "3.11.8"
    }
  },
  "nbformat": 4,
  "nbformat_minor": 2
}
