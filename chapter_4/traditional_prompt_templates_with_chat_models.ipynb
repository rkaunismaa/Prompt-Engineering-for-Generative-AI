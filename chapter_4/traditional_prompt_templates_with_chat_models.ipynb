{
  "cells": [
    {
      "cell_type": "markdown",
      "metadata": {},
      "source": [
        "#### Friday, December 20, 2024"
      ]
    },
    {
      "cell_type": "code",
      "execution_count": 1,
      "metadata": {},
      "outputs": [],
      "source": [
        "# Deliberately set the OPENAI_API_KEY to an invalid value to ensure that the code is not using it.\n",
        "import os\n",
        "os.environ['OPENAI_API_KEY'] = \"Nope!\""
      ]
    },
    {
      "cell_type": "code",
      "execution_count": 2,
      "metadata": {},
      "outputs": [],
      "source": [
        "from langchain_core.prompts import PromptTemplate\n",
        "from langchain.prompts.chat import SystemMessagePromptTemplate\n",
        "from langchain_openai.chat_models import ChatOpenAI"
      ]
    },
    {
      "cell_type": "code",
      "execution_count": 3,
      "metadata": {},
      "outputs": [],
      "source": [
        "prompt=PromptTemplate(\n",
        "    template=\"You are a helpful assistant that translates {input_language} to {output_language}.\",\n",
        "    input_variables=[\"input_language\", \"output_language\"],\n",
        ")\n",
        "system_message_prompt = SystemMessagePromptTemplate(prompt=prompt)"
      ]
    },
    {
      "cell_type": "code",
      "execution_count": 4,
      "metadata": {},
      "outputs": [],
      "source": [
        "# chat = ChatOpenAI()\n",
        "# Point to the local server ... last guy wins.\n",
        "lmstudio = \"http://localhost:1234/v1\"\n",
        "model = \"qwen2.5-14b-instruct@q8_0\" # lmstudio-community/Qwen2.5-14B-Instruct-GGUF :  Qwen2.5-14B-Instruct-Q4_K_M.gguf\n",
        "\n",
        "chat = ChatOpenAI(base_url=lmstudio, model=model, api_key=\"LMStudio\")"
      ]
    },
    {
      "cell_type": "code",
      "execution_count": null,
      "metadata": {},
      "outputs": [
        {
          "name": "stderr",
          "output_type": "stream",
          "text": [
            "/home/rob/Data/Documents/Github/rkaunismaa/Prompt-Engineering-for-Generative-AI/pe4gai/lib/python3.11/site-packages/langchain_core/_api/deprecation.py:119: LangChainDeprecationWarning: The method `BaseChatModel.__call__` was deprecated in langchain-core 0.1.7 and will be removed in 0.2.0. Use invoke instead.\n",
            "  warn_deprecated(\n"
          ]
        },
        {
          "data": {
            "text/plain": [
              "AIMessage(content=\"D'accord, je vais traduire du anglais au français pour vous. Veuillez me donner la phrase ou le texte que vous souhaitez traduire.\", response_metadata={'token_usage': {'completion_tokens': 31, 'prompt_tokens': 19, 'total_tokens': 50}, 'model_name': 'qwen2.5-14b-instruct@q8_0', 'system_fingerprint': 'qwen2.5-14b-instruct', 'finish_reason': 'stop', 'logprobs': None}, id='run-6106ce9a-99be-4bf5-85f5-9f68ab011f13-0')"
            ]
          },
          "execution_count": 5,
          "metadata": {},
          "output_type": "execute_result"
        }
      ],
      "source": [
        "\n",
        "chat(system_message_prompt.format_messages(input_language=\"English\", output_language=\"French\"))\n",
        "\n",
        "# repo sample output:\n",
        "# AIMessage(content=\"Vous êtes un assistant utile qui traduit l'anglais en français.\", additional_kwargs={}, example=False)"
      ]
    },
    {
      "cell_type": "code",
      "execution_count": 7,
      "metadata": {},
      "outputs": [
        {
          "name": "stdout",
          "output_type": "stream",
          "text": [
            "Bien sûr, donnez-moi la phrase ou le texte que vous souhaitez traduire en français.\n"
          ]
        }
      ],
      "source": [
        "# hmmm ... try this? ...\n",
        "response = chat(system_message_prompt.format_messages(input_language=\"English\", output_language=\"French\"))\n",
        "print(response.content)"
      ]
    }
  ],
  "metadata": {
    "kernelspec": {
      "display_name": "pe4gai",
      "language": "python",
      "name": "python3"
    },
    "language_info": {
      "codemirror_mode": {
        "name": "ipython",
        "version": 3
      },
      "file_extension": ".py",
      "mimetype": "text/x-python",
      "name": "python",
      "nbconvert_exporter": "python",
      "pygments_lexer": "ipython3",
      "version": "3.11.8"
    }
  },
  "nbformat": 4,
  "nbformat_minor": 2
}
