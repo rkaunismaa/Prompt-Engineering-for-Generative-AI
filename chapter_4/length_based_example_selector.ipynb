{
  "cells": [
    {
      "cell_type": "markdown",
      "metadata": {},
      "source": [
        "#### Monday, December 23, 2024\n",
        "\n",
        "This all runs in one pass."
      ]
    },
    {
      "cell_type": "code",
      "execution_count": 1,
      "metadata": {},
      "outputs": [],
      "source": [
        "# Deliberately set the OPENAI_API_KEY to an invalid value to ensure that the code is not using it.\n",
        "import os\n",
        "os.environ['OPENAI_API_KEY'] = \"Nope!\""
      ]
    },
    {
      "cell_type": "code",
      "execution_count": 2,
      "metadata": {},
      "outputs": [],
      "source": [
        "from langchain_core.prompts import FewShotPromptTemplate, PromptTemplate\n",
        "from langchain.prompts.example_selector import LengthBasedExampleSelector\n",
        "from langchain_openai.chat_models import ChatOpenAI\n",
        "from langchain_core.messages import SystemMessage\n",
        "import tiktoken"
      ]
    },
    {
      "cell_type": "code",
      "execution_count": 3,
      "metadata": {},
      "outputs": [],
      "source": [
        "examples = [\n",
        "    {\"input\": \"Gollum\", \"output\": \"<Story involving Gollum>\"},\n",
        "    {\"input\": \"Gandalf\", \"output\": \"<Story involving Gandalf>\"},\n",
        "    {\"input\": \"Bilbo\", \"output\": \"<Story involving Bilbo>\"},\n",
        "]"
      ]
    },
    {
      "cell_type": "code",
      "execution_count": 4,
      "metadata": {},
      "outputs": [],
      "source": [
        "story_prompt = PromptTemplate(\n",
        "    input_variables=[\"input\", \"output\"],\n",
        "    template=\"Character: {input}\\nStory: {output}\",\n",
        ")"
      ]
    },
    {
      "cell_type": "code",
      "execution_count": 5,
      "metadata": {},
      "outputs": [],
      "source": [
        "def num_tokens_from_string(string: str) -> int:\n",
        "    \"\"\"Returns the number of tokens in a text string.\"\"\"\n",
        "    encoding = tiktoken.get_encoding(\"cl100k_base\")\n",
        "    num_tokens = len(encoding.encode(string))\n",
        "    return num_tokens"
      ]
    },
    {
      "cell_type": "code",
      "execution_count": 6,
      "metadata": {},
      "outputs": [],
      "source": [
        "example_selector = LengthBasedExampleSelector(\n",
        "    examples=examples,\n",
        "    example_prompt=story_prompt,\n",
        "    max_length=1000, # 1000 tokens are to be included from examples in the prompt\n",
        "    # get_text_length: Callable[[str], int] = lambda x: len(re.split(\"\\n| \", x))\n",
        "    # You have modified the get_text_length function to work with the TikToken library based on token usage:\n",
        "    get_text_length=num_tokens_from_string,\n",
        ")"
      ]
    },
    {
      "cell_type": "code",
      "execution_count": 7,
      "metadata": {},
      "outputs": [],
      "source": [
        "dynamic_prompt = FewShotPromptTemplate(\n",
        "    example_selector=example_selector,\n",
        "    example_prompt=story_prompt,\n",
        "    prefix=\"Generate a story for {character} using the current Character/Story pairs from all of the characters as context.\",\n",
        "    suffix=\"Character: {character}\\nStory:\",\n",
        "    input_variables=[\"character\"],\n",
        ")"
      ]
    },
    {
      "cell_type": "code",
      "execution_count": 8,
      "metadata": {},
      "outputs": [],
      "source": [
        "# Provide a new character from lord of the rings\n",
        "formatted_prompt = dynamic_prompt.format(character=\"Frodo\")"
      ]
    },
    {
      "cell_type": "code",
      "execution_count": 9,
      "metadata": {},
      "outputs": [
        {
          "name": "stdout",
          "output_type": "stream",
          "text": [
            "Generate a story for Frodo using the current Character/Story pairs from all of the characters as context.\n",
            "\n",
            "Character: Gollum\n",
            "Story: <Story involving Gollum>\n",
            "\n",
            "Character: Gandalf\n",
            "Story: <Story involving Gandalf>\n",
            "\n",
            "Character: Bilbo\n",
            "Story: <Story involving Bilbo>\n",
            "\n",
            "Character: Frodo\n",
            "Story:\n"
          ]
        }
      ],
      "source": [
        "print(formatted_prompt)"
      ]
    },
    {
      "cell_type": "code",
      "execution_count": 10,
      "metadata": {},
      "outputs": [],
      "source": [
        "# model = ChatOpenAI()\n",
        "\n",
        "from langchain_openai.chat_models import ChatOpenAI\n",
        "import json\n",
        "from os import getenv\n",
        "\n",
        "# 2070 Super\n",
        "api_key = \"LMStudio\"\n",
        "lmstudio = \"http://127.0.0.1:1234/v1\"\n",
        "model = \"lmstudio-community/Qwen2.5-14B-Instruct-GGUF\"\n",
        "\n",
        "# chat = ChatOpenAI(base_url=lmstudio, model=model, api_key=\"LMStudio\",  model_kwargs={\"response_format\": {\"type\": \"json_object\"}})\n",
        "model = ChatOpenAI(base_url=lmstudio, api_key=api_key)"
      ]
    },
    {
      "cell_type": "code",
      "execution_count": null,
      "metadata": {},
      "outputs": [
        {
          "name": "stdout",
          "output_type": "stream",
          "text": [
            "**Title: The Ring's Burden**\n",
            "\n",
            "In the quiet village of Hobbiton, under the watchful gaze of the ancient trees and rolling green hills, lived a hobbit named Frodo Baggins. His life was simple and peaceful until one fateful evening when his uncle Bilbo left him an unexpected legacy — the One Ring.\n",
            "\n",
            "The morning after Bilbo's eleventy-first birthday party, Frodo woke up to find himself the new owner of Bag End. With it came not just a grand house filled with Bilbo’s treasures but also the ominous weight of the mysterious and dangerous ring. Bilbo had given him no explanation for this sudden bequest, leaving behind only cryptic hints about its power and danger.\n",
            "\n",
            "Frodo knew he could not keep such a burden hidden for long. Soon after receiving it, Gandalf arrived at Bag End to investigate the peculiar circumstances surrounding Bilbo’s departure and the ring's history. He warned Frodo of Sauron's rising threat and the perilous journey that lay ahead if he were to destroy the Ring.\n",
            "\n",
            "With each passing day, rumors spread about a dark presence in Middle-earth, stirring fear among hobbits and Men alike. Frodo realized that keeping the Ring safe at home was impossible; it would only draw Sauron’s servants closer to the Shire.\n",
            "\n",
            "Gandalf suggested taking the Ring to Rivendell for safety until they could determine its fate. But before Frodo could leave, he encountered Gollum, a creature twisted by the Ring's power who had once possessed it. Gollum’s shadow fell over the Shire, reminding Frodo of the perilous nature of his quest.\n",
            "\n",
            "With the help of his loyal friends Samwise Gamgee, Peregrin Took (Pippin), Meriadoc Brandybuck (Merry), and Gandalf, Frodo began his journey out of the Shire. The Ring's malevolent influence grew stronger with each step they took away from home, testing their resolve and friendship.\n",
            "\n",
            "Their path led them through the Old Forest, where ancient trees whispered warnings and dangers lurked in every shadow. They crossed the Barrow-downs, narrowly escaping death at the hands of spectral enemies. Each challenge brought Frodo closer to despair but also deeper into a bond with his companions that would prove essential for their survival.\n",
            "\n",
            "Gandalf was lost during their journey when he fought the Balrog of Moria, leaving Frodo and his friends to continue on their perilous path alone. The burden of the Ring grew heavier, pushing Frodo to his limits both physically and mentally. He faced more trials in the Mines of Moria, the labyrinthine paths of Lothlórien, and the treacherous marshes of the Dead Marshes.\n",
            "\n",
            "Throughout these ordeals, Gollum's haunting presence never truly left them. His voice echoed in Frodo’s mind, a reminder of the Ring’s corrupting influence and his own mortality. Despite this torment, Frodo refused to give up hope. He clung to Gandalf's wisdom and the unwavering support of Sam, who remained by his side through every trial.\n",
            "\n",
            "As they approached Mordor, Frodo knew he would need to face Sauron alone if there was any chance of destroying the Ring. His friends watched in silence as he continued toward Mount Doom, where the fires of creation once forged the One Ring.\n",
            "\n",
            "Frodo’s journey culminated at the Cracks of Doom, where the Ring’s power reached its zenith. With Gollum's shadow looming over him and his own strength faltering, Frodo hesitated but ultimately threw the Ring into the fire, destroying it forever.\n",
            "\n",
            "In that moment, everything changed. The darkness lifted, and hope returned to Middle-earth. But for Frodo, the burden of carrying the One Ring had left an indelible mark. He was never truly at peace again, forever marked by his heroic sacrifice.\n",
            "\n",
            "Back in the Shire, Frodo found solace among friends old and new, but the memories of his quest lingered like a shadow. Though he tried to rebuild his life, the weight of what he had endured was too great for him to bear alone. In the end, Frodo left Middle-earth, sailing west across the sea to find peace in the Undying Lands, leaving behind only stories and legacies that would endure through the ages.\n",
            "\n",
            "Frodo’s journey was one of sacrifice and transformation, a testament to the strength of spirit and the enduring power of friendship against even the darkest of forces.\n"
          ]
        }
      ],
      "source": [
        "result = model.invoke([SystemMessage(content=formatted_prompt)])\n",
        "\n",
        "print(result.content)\n",
        "\n",
        "# 2m 44.9s\n",
        "\n",
        "# Expected output:\n",
        "# Once upon a time, in the peaceful land of Middle-earth, there lived a young hobbit named Frodo Baggins. Frodo hailed from the Shire, a cozy and tranquil place where life revolved around good food, cheerful gatherings, and a love for simple pleasures. Little did Frodo know that his life was about to take a dramatic turn, plunging him into a perilous adventure that would shape the fate of Middle-earth.\n",
        "# It all began when Frodo's beloved uncle, Bilbo Baggins, embarked on a grand journey with a group of dwarves led by Thorin Oakenshield. They sought to reclaim their homeland from the treacherous dragon Smaug. During their quest, Bilbo stumbled upon a mysterious ring that possessed immense power. Unbeknownst to him, this was the One Ring, the ultimate weapon of the Dark Lord Sauron.\n",
        "# Years later, Gandalf the Grey, a wise and powerful wizard, arrived at Frodo's doorstep with grave news. He revealed the true nature of the ring to Frodo, urging him to undertake a perilous mission. The ring had to be destroyed to ensure Sauron's defeat and the salvation of Middle-earth. Frodo, alongside his loyal friends Samwise Gamgee, Merry Brandybuck, and Pippin Took, agreed to take on this daunting task.\n",
        "# Their journey led them through treacherous landscapes, encountering numerous dangers and foes along the way. However, it was during a particularly harrowing moment that Frodo found himself face to face with a creature named Gollum. Gollum had once possessed the One Ring, and his obsession with it had consumed him, turning him into a wretched, twisted being.\n",
        "# Gollum became fixated on Frodo and the ring, seeing the young hobbit as a means to reclaim what he had lost. Frodo, torn between pity and fear, recognized the torment within Gollum and sought to find a way to redeem him. Though Gollum often plotted against Frodo and his friends, Frodo understood the tragic circumstances that had led Gollum down this dark path.\n",
        "# As Frodo and his companions continued their journey, Gollum's presence loomed over them like a shadow. He would alternate between aiding Frodo and leading him astray, as the battle for the ring's influence raged within him. It was a constant reminder to Frodo of the power that the ring held over all who possessed it.\n",
        "# Despite the challenges and the ever-present threat of Gollum, Frodo persevered. His unwavering determination and courage inspired those around him, reminding them of the importance of their mission. Frodo's compassion for Gollum also served as a reminder that even in the face of darkness, there is always a glimmer of hope for redemption.\n",
        "# Ultimately, Frodo's journey culminated in the treacherous land of Mordor, where the fires of Mount Doom awaited to destroy the One Ring. It was here that Frodo faced his greatest test, resisting the ring's allure and striving to fulfill his mission. With the help of Samwise, Frodo reached the precipice of Mount Doom, ready to cast the ring into the fiery depths.\n",
        "# In the end, it was Frodo's strength of character, his unwavering determination, and his compassion that saved Middle-earth from the clutches of Sauron. Frodo's story serves as a reminder that even the smallest of beings can possess great courage and make a monumental impact on the world around them.\n",
        "# And so, Frodo returned to the Shire, forever changed by his journey. Though scarred by his experiences, he carried with him the lessons learned and the friendships forged. Frodo's story would be passed down through the ages, inspiring future generations to face their own challenges with bravery and selflessness."
      ]
    }
  ],
  "metadata": {
    "kernelspec": {
      "display_name": "pe4gai",
      "language": "python",
      "name": "python3"
    },
    "language_info": {
      "codemirror_mode": {
        "name": "ipython",
        "version": 3
      },
      "file_extension": ".py",
      "mimetype": "text/x-python",
      "name": "python",
      "nbconvert_exporter": "python",
      "pygments_lexer": "ipython3",
      "version": "3.11.8"
    },
    "orig_nbformat": 4
  },
  "nbformat": 4,
  "nbformat_minor": 2
}
