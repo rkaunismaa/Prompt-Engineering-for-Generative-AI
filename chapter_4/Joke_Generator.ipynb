{
 "cells": [
  {
   "cell_type": "markdown",
   "metadata": {},
   "source": [
    "#### Friday, December 20, 2024\n",
    "\n",
    "This notebook was not in the repo, but was created from content found in the book."
   ]
  },
  {
   "cell_type": "code",
   "execution_count": 1,
   "metadata": {},
   "outputs": [],
   "source": [
    "# Deliberately set the OPENAI_API_KEY to an invalid value to ensure that the code is not using it.\n",
    "import os\n",
    "os.environ['OPENAI_API_KEY'] = \"Nope!\""
   ]
  },
  {
   "cell_type": "code",
   "execution_count": 2,
   "metadata": {},
   "outputs": [],
   "source": [
    "# Point to the local server ... last guy wins.\n",
    "lmstudio = \"http://localhost:1234/v1\"\n",
    "# lmstudio = \"http://192.168.2.16:1234/v1\"\n",
    "\n",
    "model = \"qwen2.5-14b-instruct@q8_0\" # lmstudio-community/Qwen2.5-14B-Instruct-GGUF :  Qwen2.5-14B-Instruct-Q4_K_M.gguf\n"
   ]
  },
  {
   "cell_type": "code",
   "execution_count": 3,
   "metadata": {},
   "outputs": [],
   "source": [
    "from langchain_openai.chat_models import ChatOpenAI\n",
    "\n",
    "chat = ChatOpenAI(base_url=lmstudio, api_key=\"LMStudio\",  temperature=0.5, model=model)"
   ]
  },
  {
   "cell_type": "code",
   "execution_count": 4,
   "metadata": {},
   "outputs": [],
   "source": [
    "from langchain.schema import AIMessage, HumanMessage, SystemMessage\n",
    "\n",
    "messages = [SystemMessage(content='''Act as a senior software engineer\n",
    "at a startup company.'''),\n",
    "\n",
    "HumanMessage(content='''Please can you provide a funny joke\n",
    "about software engineers?''')]"
   ]
  },
  {
   "cell_type": "code",
   "execution_count": 5,
   "metadata": {},
   "outputs": [
    {
     "name": "stdout",
     "output_type": "stream",
     "text": [
      "Sure, here's a light-hearted joke for you:\n",
      "\n",
      "Why do software engineers always mix up Christmas and Halloween?\n",
      "\n",
      "Because Oct 31 equals Dec 25.\n",
      "\n",
      "(Explanation: In the context of programming languages, `Oct` refers to octal notation (base-8) and `Dec` refers to decimal notation (base-10). The number 31 in octal is equal to 25 in decimal.)\n",
      "\n",
      "I hope that brings a smile!\n"
     ]
    }
   ],
   "source": [
    "response = chat.invoke(input=messages)\n",
    "print(response.content)"
   ]
  },
  {
   "cell_type": "code",
   "execution_count": 6,
   "metadata": {},
   "outputs": [
    {
     "name": "stdout",
     "output_type": "stream",
     "text": [
      "Fri Dec 20 09:42:05 2024       \n",
      "+-----------------------------------------------------------------------------------------+\n",
      "| NVIDIA-SMI 550.120                Driver Version: 550.120        CUDA Version: 12.4     |\n",
      "|-----------------------------------------+------------------------+----------------------+\n",
      "| GPU  Name                 Persistence-M | Bus-Id          Disp.A | Volatile Uncorr. ECC |\n",
      "| Fan  Temp   Perf          Pwr:Usage/Cap |           Memory-Usage | GPU-Util  Compute M. |\n",
      "|                                         |                        |               MIG M. |\n",
      "|=========================================+========================+======================|\n",
      "|   0  NVIDIA GeForce RTX 2070 ...    Off |   00000000:2B:00.0  On |                  N/A |\n",
      "| 24%   27C    P8             10W /  215W |    6155MiB /   8192MiB |      7%      Default |\n",
      "|                                         |                        |                  N/A |\n",
      "+-----------------------------------------+------------------------+----------------------+\n",
      "                                                                                         \n",
      "+-----------------------------------------------------------------------------------------+\n",
      "| Processes:                                                                              |\n",
      "|  GPU   GI   CI        PID   Type   Process name                              GPU Memory |\n",
      "|        ID   ID                                                               Usage      |\n",
      "|=========================================================================================|\n",
      "|    0   N/A  N/A      2280      G   /usr/lib/xorg/Xorg                            222MiB |\n",
      "|    0   N/A  N/A      2410      G   /usr/bin/gnome-shell                           34MiB |\n",
      "|    0   N/A  N/A      2805      G   ...3/usr/bin/snapd-desktop-integration          8MiB |\n",
      "|    0   N/A  N/A     13943      G   ...98d5ff0a851670d371abde73918c5294641         37MiB |\n",
      "|    0   N/A  N/A     15843      G   ...erProcess --variations-seed-version         86MiB |\n",
      "|    0   N/A  N/A     32002      G   ...ures=SpareRendererForSitePerProcess         50MiB |\n",
      "|    0   N/A  N/A     40540      C   ...ures=SpareRendererForSitePerProcess       5708MiB |\n",
      "+-----------------------------------------------------------------------------------------+\n"
     ]
    }
   ],
   "source": [
    "!nvidia-smi"
   ]
  },
  {
   "cell_type": "code",
   "execution_count": null,
   "metadata": {},
   "outputs": [],
   "source": []
  }
 ],
 "metadata": {
  "kernelspec": {
   "display_name": "pe4gai",
   "language": "python",
   "name": "python3"
  },
  "language_info": {
   "codemirror_mode": {
    "name": "ipython",
    "version": 3
   },
   "file_extension": ".py",
   "mimetype": "text/x-python",
   "name": "python",
   "nbconvert_exporter": "python",
   "pygments_lexer": "ipython3",
   "version": "3.11.8"
  }
 },
 "nbformat": 4,
 "nbformat_minor": 2
}
